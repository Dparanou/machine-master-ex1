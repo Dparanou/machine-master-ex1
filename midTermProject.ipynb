{
  "cells": [
    {
      "cell_type": "markdown",
      "metadata": {
        "id": "0Dheco9QrRxu"
      },
      "source": [
        "# Midterm Project"
      ]
    },
    {
      "cell_type": "markdown",
      "metadata": {},
      "source": [
        "## Problem 1"
      ]
    },
    {
      "cell_type": "code",
      "execution_count": 1,
      "metadata": {
        "id": "hvRLQPIerRx0"
      },
      "outputs": [],
      "source": [
        "import numpy as np\n",
        "import pandas as pd\n",
        "from pprint import pprint\n",
        "import matplotlib.pyplot as plt"
      ]
    },
    {
      "cell_type": "markdown",
      "metadata": {},
      "source": [
        "### Task 1"
      ]
    },
    {
      "cell_type": "code",
      "execution_count": 2,
      "metadata": {
        "id": "dO1E-g8CrRx2"
      },
      "outputs": [],
      "source": [
        "#define the model\n",
        "def polynomial(x, params):\n",
        "    # y_without_noise = Polynomial(parameters)\n",
        "    k = params[0] + params[1]*pow(x, 1) + params[2]*pow(x, 2) + params[3]*pow(x, 3) + params[4]*pow(x, 5)\n",
        "    # y = y_without_noise(x) + noise\n",
        "    return k\n",
        "    "
      ]
    },
    {
      "cell_type": "code",
      "execution_count": 3,
      "metadata": {
        "id": "gEoVsjO_rRx3"
      },
      "outputs": [],
      "source": [
        "#training parameters, number of samples, 20 equidistance points in [0,2]\n",
        "theta = [0.2, -1, 0.9, 0.7, - 0.2]\n",
        "samples = 20\n",
        "x = np.linspace(0, 2, samples)"
      ]
    },
    {
      "cell_type": "code",
      "execution_count": 4,
      "metadata": {
        "id": "hvS-D6jVrRx3"
      },
      "outputs": [],
      "source": [
        "#calculate the training set\n",
        "y =  polynomial(x, theta)\n",
        "# 0 is the mean of the normal distribution you are choosing from\n",
        "# 0.1 is the standard deviation of the normal distribution\n",
        "# 1 is the number of elements you get in array noise\n",
        "y = y + np.random.normal(0,np.sqrt(0.1),20) #add white Gaussian noise"
      ]
    },
    {
      "cell_type": "code",
      "execution_count": 5,
      "metadata": {
        "colab": {
          "base_uri": "https://localhost:8080/",
          "height": 282
        },
        "id": "nw8bONVqrRx5",
        "outputId": "4125ab73-058c-440e-fa31-471285fcded4"
      },
      "outputs": [
        {
          "data": {
            "text/plain": [
              "[<matplotlib.lines.Line2D at 0x7f917e2896a0>]"
            ]
          },
          "execution_count": 5,
          "metadata": {},
          "output_type": "execute_result"
        },
        {
          "data": {
            "image/png": "[encoded data removed]",
            "text/plain": [
              "<Figure size 432x288 with 1 Axes>"
            ]
          },
          "metadata": {
            "needs_background": "light"
          },
          "output_type": "display_data"
        }
      ],
      "source": [
        "#plot results\n",
        "plt.plot(x, y, \"ko\", label=\"Data\")"
      ]
    },
    {
      "cell_type": "code",
      "execution_count": 6,
      "metadata": {
        "id": "Ol3PZmFVrRx6"
      },
      "outputs": [],
      "source": [
        "# create the matrices for least square method\n",
        "X = []\n",
        "Y = []\n",
        "for i in range(0,5):\n",
        "    X.append([sum(pow(x,i)), sum(pow(x,i+1)), sum(pow(x,i+2)), sum(pow(x,i+3)), sum(pow(x,i+5))])\n",
        "    Y.append([sum(pow(x,i)*y)])"
      ]
    },
    {
      "cell_type": "code",
      "execution_count": 7,
      "metadata": {
        "id": "Ozowh5rvrRx7"
      },
      "outputs": [],
      "source": [
        "#find the optimal parameters\n",
        "opt_coef = np.dot(np.linalg.inv(X), Y)"
      ]
    },
    {
      "cell_type": "code",
      "execution_count": 8,
      "metadata": {
        "colab": {
          "base_uri": "https://localhost:8080/"
        },
        "id": "XLVemhMErRx8",
        "outputId": "8fd9411b-cac9-49e6-af76-5f4e5c103356"
      },
      "outputs": [
        {
          "data": {
            "text/plain": [
              "array([[ 0.17367147],\n",
              "       [-0.58452542],\n",
              "       [ 1.13807199],\n",
              "       [-0.00385991],\n",
              "       [-0.05331891]])"
            ]
          },
          "execution_count": 8,
          "metadata": {},
          "output_type": "execute_result"
        }
      ],
      "source": [
        "opt_coef"
      ]
    },
    {
      "cell_type": "code",
      "execution_count": 9,
      "metadata": {
        "colab": {
          "base_uri": "https://localhost:8080/",
          "height": 265
        },
        "id": "0tkSqSkhrRx9",
        "outputId": "35183389-2860-494f-b197-a69afe9e3d02"
      },
      "outputs": [
        {
          "data": {
            "image/png": "[encoded data removed]",
            "text/plain": [
              "<Figure size 432x288 with 1 Axes>"
            ]
          },
          "metadata": {
            "needs_background": "light"
          },
          "output_type": "display_data"
        }
      ],
      "source": [
        "#plot our results based on the optimal parameters\n",
        "y_pred = polynomial(x, opt_coef)\n",
        "plt.plot(x, y, 'bo')\n",
        "plt.plot(x, polynomial(x, opt_coef), 'k-')\n",
        "plt.show() "
      ]
    },
    {
      "cell_type": "code",
      "execution_count": 10,
      "metadata": {
        "colab": {
          "base_uri": "https://localhost:8080/"
        },
        "id": "HnXGcOxfrRx9",
        "outputId": "249a2ec2-f653-4538-acf2-91f29f31e5bf"
      },
      "outputs": [
        {
          "name": "stdout",
          "output_type": "stream",
          "text": [
            "0.06418285440924713\n"
          ]
        }
      ],
      "source": [
        "# Calculate Mean Square Error of y over the training set\n",
        "mse = (1/samples) * sum(pow(y - y_pred, 2))\n",
        "print(mse)"
      ]
    },
    {
      "cell_type": "code",
      "execution_count": 11,
      "metadata": {
        "id": "Ue637DR-rRx-",
        "outputId": "150f8cef-154c-4849-df8f-223342200022"
      },
      "outputs": [
        {
          "data": {
            "image/png": "[encoded data removed]",
            "text/plain": [
              "<Figure size 432x288 with 1 Axes>"
            ]
          },
          "metadata": {
            "needs_background": "light"
          },
          "output_type": "display_data"
        }
      ],
      "source": [
        "#create the test set based on the optimal parameters\n",
        "x_test = np.random.uniform(0, 2, size=(1000) )\n",
        "#x_test = np.linspace(0, 2, 1000)\n",
        "y_test_true = polynomial(x_test, theta)\n",
        "y_test_true = y_test_true + np.random.normal(0,np.sqrt(0.1),1000)\n",
        "y_test_pred = polynomial(x_test, opt_coef)\n",
        "\n",
        "plt.plot(x_test, y_test_true, 'bo')\n",
        "plt.plot(x_test, y_test_pred,'ro')\n",
        "plt.show()"
      ]
    },
    {
      "cell_type": "code",
      "execution_count": 12,
      "metadata": {
        "id": "QMQ2dDKfrRx-",
        "outputId": "5f8ecd18-360f-4d47-c19a-14b0b16bd543"
      },
      "outputs": [
        {
          "name": "stdout",
          "output_type": "stream",
          "text": [
            "0.1360064200940221\n"
          ]
        }
      ],
      "source": [
        "# calculate the mean square error over the test set of 1000 points\n",
        "mse_test = (1/1000) * sum(pow(y_test_true - y_test_pred, 2))\n",
        "print(mse_test)"
      ]
    },
    {
      "cell_type": "markdown",
      "metadata": {},
      "source": [
        "#### Noticing the MSE of the training set we deduct that the optimal parameters of the Least Square Method fits our data properly"
      ]
    },
    {
      "cell_type": "markdown",
      "metadata": {
        "id": "AUSn2DTcrRx-"
      },
      "source": [
        "### Task 2"
      ]
    },
    {
      "cell_type": "markdown",
      "metadata": {
        "id": "wH2OfN4-rRx_"
      },
      "source": [
        "#### Second Degree Polynomial"
      ]
    },
    {
      "cell_type": "code",
      "execution_count": 13,
      "metadata": {
        "id": "_KLfT98KrRx_"
      },
      "outputs": [],
      "source": [
        "#define the second degree polynomial \n",
        "def second_degree_pol_f(x, params):\n",
        "    k = params[0] + params[1]*x + params[2]*x**2\n",
        "    return k"
      ]
    },
    {
      "cell_type": "code",
      "execution_count": 14,
      "metadata": {
        "id": "LmDEXHjErRx_"
      },
      "outputs": [],
      "source": [
        "# create the matrices\n",
        "X2 = []\n",
        "Y2 = []\n",
        "for i in range(0,3):\n",
        "    X2.append([sum(pow(x,i)), sum(pow(x,i+1)), sum(pow(x,i+2))])\n",
        "    Y2.append([sum(pow(x,i)*y)])"
      ]
    },
    {
      "cell_type": "code",
      "execution_count": 15,
      "metadata": {
        "id": "9MBHF3sVrRyA",
        "outputId": "fa732a64-042f-48c4-fa79-fa0dc1044ee9"
      },
      "outputs": [
        {
          "name": "stdout",
          "output_type": "stream",
          "text": [
            "[[0.00939414]\n",
            " [0.34515037]\n",
            " [0.34284991]]\n"
          ]
        }
      ],
      "source": [
        "#calculate optimal parameters\n",
        "popt2 = np.matmul(np.linalg.inv(X2), Y2)\n",
        "\n",
        "print(popt2)"
      ]
    },
    {
      "cell_type": "code",
      "execution_count": 16,
      "metadata": {
        "id": "di5w_niGrRyA",
        "outputId": "83800e0d-7f23-4254-c322-d7893132d6e6"
      },
      "outputs": [
        {
          "data": {
            "text/plain": [
              "[]"
            ]
          },
          "execution_count": 16,
          "metadata": {},
          "output_type": "execute_result"
        },
        {
          "data": {
            "image/png": "[encoded data removed]",
            "text/plain": [
              "<Figure size 432x288 with 1 Axes>"
            ]
          },
          "metadata": {
            "needs_background": "light"
          },
          "output_type": "display_data"
        }
      ],
      "source": [
        "#plot our results\n",
        "plt.scatter(x, y)\n",
        "plt.plot(x, second_degree_pol_f(x, popt2))\n",
        "plt.plot()"
      ]
    },
    {
      "cell_type": "code",
      "execution_count": 17,
      "metadata": {
        "id": "LqaXigiCrRyA"
      },
      "outputs": [],
      "source": [
        "#perform 100 exeriments using different noise samples\n",
        "results_second_polynomial = []\n",
        "for i in range(0, 100):\n",
        "    y = second_degree_pol_f(x, popt2) + np.random.normal(0,np.sqrt(0.1), 20)\n",
        "    results_second_polynomial.append(y)\n",
        "    "
      ]
    },
    {
      "cell_type": "code",
      "execution_count": 18,
      "metadata": {
        "id": "NMWuEg9vrRyB"
      },
      "outputs": [],
      "source": [
        "df2 = pd.DataFrame(results_second_polynomial)"
      ]
    },
    {
      "cell_type": "code",
      "execution_count": 19,
      "metadata": {
        "id": "A-6opCskrRyB"
      },
      "outputs": [],
      "source": [
        "# calculate the mean value of each column\n",
        "mean_second_degree = []\n",
        "\n",
        "# calculate the variance value of each column\n",
        "variance_second_degree = []\n",
        "\n",
        "for (columnName, columnData) in df2.iteritems():\n",
        "    mean = sum(columnData)/100\n",
        "    mean_second_degree.append(mean)\n",
        "    variance_second_degree.append(sum(pow(columnData - mean, 2))/100)\n",
        "    "
      ]
    },
    {
      "cell_type": "code",
      "execution_count": 20,
      "metadata": {
        "id": "hH51GclgrRyB",
        "outputId": "ae056e86-8782-480a-aa11-8fd8802fb277"
      },
      "outputs": [
        {
          "data": {
            "image/png": "[encoded data removed]",
            "text/plain": [
              "<Figure size 432x288 with 1 Axes>"
            ]
          },
          "metadata": {
            "needs_background": "light"
          },
          "output_type": "display_data"
        }
      ],
      "source": [
        "plt.scatter(x, mean_second_degree, color = 'hotpink')\n",
        "plt.scatter(x, variance_second_degree, color = 'black')\n",
        "plt.plot(x, second_degree_pol_f(x, popt2))\n",
        "plt.show()"
      ]
    },
    {
      "cell_type": "markdown",
      "metadata": {
        "id": "4ODVSxYIrRyC"
      },
      "source": [
        "#### Tenth Degree Polynomial"
      ]
    },
    {
      "cell_type": "code",
      "execution_count": 21,
      "metadata": {
        "id": "0fhAVDS9rRyC"
      },
      "outputs": [],
      "source": [
        "#defining the 10th degree polynomial\n",
        "def tenth_degree_pol_f(x, params):\n",
        "    k = params[0] + params[1]*x + params[2]*x**2 + params[3]*x**3 + params[4]*x**4 + params[5]*x**5 + params[6]*x**6 + params[7]*x**7 + params[8]*x**8 + params[9]*x**9 + params[10]*x**10\n",
        "    return k"
      ]
    },
    {
      "cell_type": "code",
      "execution_count": 22,
      "metadata": {
        "id": "wlcu0FBdrRyC"
      },
      "outputs": [],
      "source": [
        "# create the matrices\n",
        "X10 = []\n",
        "Y10 = []\n",
        "for i in range(0,11):\n",
        "    X10.append([sum(pow(x,i)), sum(pow(x,i+1)), sum(pow(x,i+2)), sum(pow(x,i+3)), sum(pow(x,i+4)), sum(pow(x,i+5)), sum(pow(x,i+6)), sum(pow(x,i+7)), sum(pow(x,i+8)), sum(pow(x,i+9)), sum(pow(x,i+10))])\n",
        "    Y10.append([sum(pow(x,i)*y)])"
      ]
    },
    {
      "cell_type": "code",
      "execution_count": 23,
      "metadata": {
        "id": "_DwPE7OerRyD",
        "outputId": "634c3bd9-6e0e-4334-912f-cb00f1538fd4"
      },
      "outputs": [
        {
          "name": "stdout",
          "output_type": "stream",
          "text": [
            "[[ 4.39182504e-02]\n",
            " [-1.45670706e+01]\n",
            " [ 2.27108140e+02]\n",
            " [-1.36021580e+03]\n",
            " [ 4.28815764e+03]\n",
            " [-7.88850922e+03]\n",
            " [ 8.88497427e+03]\n",
            " [-6.20097098e+03]\n",
            " [ 2.61328738e+03]\n",
            " [-6.08785295e+02]\n",
            " [ 6.01647322e+01]]\n"
          ]
        }
      ],
      "source": [
        "#get the optimal parameters\n",
        "popt10 = np.matmul(np.linalg.inv(X10), Y10)\n",
        "\n",
        "print(popt10)"
      ]
    },
    {
      "cell_type": "code",
      "execution_count": 24,
      "metadata": {
        "id": "mY1m6ud0rRyD",
        "outputId": "4476cf95-257c-47e2-99a7-fe5f38f9bf0b"
      },
      "outputs": [
        {
          "data": {
            "text/plain": [
              "[]"
            ]
          },
          "execution_count": 24,
          "metadata": {},
          "output_type": "execute_result"
        },
        {
          "data": {
            "image/png": "[encoded data removed]",
            "text/plain": [
              "<Figure size 432x288 with 1 Axes>"
            ]
          },
          "metadata": {
            "needs_background": "light"
          },
          "output_type": "display_data"
        }
      ],
      "source": [
        "plt.scatter(x, y)\n",
        "plt.plot(x, tenth_degree_pol_f(x, popt10))\n",
        "plt.plot()"
      ]
    },
    {
      "cell_type": "code",
      "execution_count": 25,
      "metadata": {
        "id": "44hMfDlxrRyD"
      },
      "outputs": [],
      "source": [
        "#perform 100 experiments using different noise samples\n",
        "results_tenth_polynomial = []\n",
        "for i in range(0, 100):\n",
        "    k = tenth_degree_pol_f(x, popt10) + np.random.normal(0,np.sqrt(0.1), 20)\n",
        "    results_tenth_polynomial.append(k)\n",
        "    "
      ]
    },
    {
      "cell_type": "code",
      "execution_count": 26,
      "metadata": {
        "id": "S4BzCo-LrRyD"
      },
      "outputs": [],
      "source": [
        "df10 = pd.DataFrame(results_tenth_polynomial)"
      ]
    },
    {
      "cell_type": "code",
      "execution_count": 27,
      "metadata": {
        "id": "9gAg4xafrRyE"
      },
      "outputs": [],
      "source": [
        "# calculate the mean value of each column\n",
        "mean_tenth_degree = []\n",
        "# calculate the variance value of each column\n",
        "variance_tenth_degree = []\n",
        "\n",
        "for (columnName, columnData) in df10.iteritems():\n",
        "    mean = sum(columnData)/100\n",
        "    mean_tenth_degree.append(mean)\n",
        "    variance_tenth_degree.append(sum(pow(x - mean, 2))/100)"
      ]
    },
    {
      "cell_type": "code",
      "execution_count": 28,
      "metadata": {
        "id": "VEXNC_9DrRyE",
        "outputId": "251a74ae-8566-486d-e58c-c20edfb17f2d"
      },
      "outputs": [
        {
          "data": {
            "image/png": "[encoded data removed]",
            "text/plain": [
              "<Figure size 432x288 with 1 Axes>"
            ]
          },
          "metadata": {
            "needs_background": "light"
          },
          "output_type": "display_data"
        }
      ],
      "source": [
        "plt.scatter(x, mean_tenth_degree, color = 'hotpink')\n",
        "plt.scatter(x, variance_tenth_degree, color = 'black')\n",
        "plt.plot(x, tenth_degree_pol_f(x, popt10))\n",
        "plt.xlabel(\"X\")\n",
        "plt.ylabel(\"Y\")\n",
        "plt.title(\"Tenth degree Polynomial\")\n",
        "plt.show()"
      ]
    },
    {
      "cell_type": "markdown",
      "metadata": {
        "id": "j51horGyrRyE"
      },
      "source": [
        "#### Comparing our results between the 2nd and the 10th degree polynomial we observe that we have higher variance in the later. This was expected, because having a high degree polynomial overfits our data (lower bias). In contrast, the second degree polynomial has smaller variance and thus higher bias. This is known as the bias - variance dilemma, where smaller degree polynomials do not fit the data properly(underfit), having higher mean square error, whereas higher degree polynomials overfit our data and make them less flexible with the general data."
      ]
    },
    {
      "cell_type": "markdown",
      "metadata": {
        "id": "euVWgUvbrRyF"
      },
      "source": [
        "### Task 3"
      ]
    },
    {
      "cell_type": "code",
      "execution_count": 29,
      "metadata": {},
      "outputs": [],
      "source": [
        "#create x matrix with the corresponding powers\n",
        "x_matrix = []\n",
        "\n",
        "for i in x:\n",
        "    x_matrix.append([1, i, pow(i,2), pow(i,3), pow(i,5)])\n",
        "\n",
        "x_matrix = np.array(x_matrix)"
      ]
    },
    {
      "cell_type": "code",
      "execution_count": 30,
      "metadata": {
        "id": "ZpyoQFhWrRyF"
      },
      "outputs": [],
      "source": [
        "#Set the different values of alpha to be tested\n",
        "lamda = [1e-10, 1e-8, 1e-4, 1e-3,1e-2, 1, 3, 5, 7, 10, 15]"
      ]
    },
    {
      "cell_type": "code",
      "execution_count": 31,
      "metadata": {
        "id": "Y38UMW1trRyF"
      },
      "outputs": [],
      "source": [
        "#apply ridge regression method \n",
        "opt_coef_ridge = []\n",
        "for l in lamda:\n",
        "    xtx = np.matmul(np.matrix.transpose(x_matrix), x_matrix)\n",
        "    aI = l* np.identity(5)\n",
        "    a_term = np.add(xtx, aI)\n",
        "    b_term = np.matmul(np.matrix.transpose(x_matrix), y)\n",
        "    opt_coef_ridge.append(np.matmul(np.linalg.inv(a_term), b_term))"
      ]
    },
    {
      "cell_type": "code",
      "execution_count": 32,
      "metadata": {
        "id": "Fk1NsQ6nrRyF"
      },
      "outputs": [],
      "source": [
        "#calculate MSE for each lambda \n",
        "mse_ridge = []\n",
        "for coef in opt_coef_ridge:\n",
        "    y_test_ridge = polynomial(x, coef) + np.random.normal(0,np.sqrt(0.1), 20)\n",
        "    error = (1/20) * sum(pow(y - y_test_ridge, 2))\n",
        "    mse_ridge.append(error)\n",
        "    "
      ]
    },
    {
      "cell_type": "markdown",
      "metadata": {
        "id": "_Cl7Cn36rRyG"
      },
      "source": [
        "#### we observe that for lambda values smaller than 1, we get smaller mse, so better results. As we increase the lambda, the MSE is increased respectively. We can also observe this, from the following plot"
      ]
    },
    {
      "cell_type": "code",
      "execution_count": 33,
      "metadata": {
        "id": "9Hohaj8HrRyG",
        "outputId": "c11469e9-46f0-4cc7-e0ed-7fc71d7f1f85"
      },
      "outputs": [
        {
          "data": {
            "text/plain": [
              "[<matplotlib.lines.Line2D at 0x7f917deef8b0>]"
            ]
          },
          "execution_count": 33,
          "metadata": {},
          "output_type": "execute_result"
        },
        {
          "data": {
            "image/png": "[encoded data removed]",
            "text/plain": [
              "<Figure size 432x288 with 1 Axes>"
            ]
          },
          "metadata": {
            "needs_background": "light"
          },
          "output_type": "display_data"
        }
      ],
      "source": [
        "# small lambda -> ~1\n",
        "plt.plot(lamda, mse_ridge)"
      ]
    },
    {
      "cell_type": "markdown",
      "metadata": {
        "id": "bpw9WTcWrRyG"
      },
      "source": [
        "### Task 4"
      ]
    },
    {
      "cell_type": "code",
      "execution_count": 34,
      "metadata": {
        "id": "MNHdjxj4rRyG"
      },
      "outputs": [],
      "source": [
        "#Bayes Rule\n",
        "# P(θ|x) = P(x|θ)*P(θ) / P(x)"
      ]
    },
    {
      "cell_type": "code",
      "execution_count": 35,
      "metadata": {},
      "outputs": [],
      "source": [
        "# generate 20 random samples for Bayesian Inference \n",
        "x_random_bayes = np.random.uniform(0, 2, size=(samples))\n",
        "x_random_bayes_matrix = []\n",
        "\n",
        "for i in x_random_bayes:\n",
        "  x_random_bayes_matrix.append([1, i, pow(i,2), pow(i,3), pow(i,5)])\n",
        "\n",
        "x_random_bayes_matrix = np.array(x_random_bayes_matrix)"
      ]
    },
    {
      "cell_type": "code",
      "execution_count": 36,
      "metadata": {
        "id": "ApmDEdjxrRyH"
      },
      "outputs": [],
      "source": [
        "# calculate Bayesian Inference for the 20 samples based on our prior knowledge -> coefficients from LS \n",
        "sn2 = [0.05, 0.15] # it's square\n",
        "sth2 = 0.1\n",
        "\n",
        "y_pred_bayes = [] # prediction of each y\n",
        "var_bayes = [] # variance of each y\n",
        "\n",
        "for sn in sn2:\n",
        "    s_theta_y = np.linalg.inv(((1/sth2)*np.identity(5) + (1/sn)*np.matmul(np.transpose(x_matrix),x_matrix)))\n",
        "    a_param = 1/sn*s_theta_y\n",
        "    b_param = np.matmul(a_param, np.transpose(x_matrix))\n",
        "    c_param = np.matmul(x_matrix, opt_coef)\n",
        "    d_param = np.reshape(y, (20,1)) - c_param\n",
        "    e_param = np.matmul(b_param, d_param)\n",
        "    m_theta_y = np.add(opt_coef, e_param)\n",
        "\n",
        "    arr_bayes = []\n",
        "    arr_var_bayes = []\n",
        "    for idx, row in enumerate(x_random_bayes_matrix):\n",
        "        m_y = np.matmul(row, m_theta_y)\n",
        "        arr_bayes.append(m_y[0])\n",
        "\n",
        "        s_theta_y_var = np.linalg.inv((sn*np.identity(5) + sth2*np.matmul(np.transpose(x_matrix),x_matrix)))\n",
        "        f_param = sn*sth2*row\n",
        "        g_param = np.matmul(f_param, s_theta_y_var)\n",
        "        h_param = np.matmul(g_param, np.transpose(row))\n",
        "        s_y = sn + h_param\n",
        "        arr_var_bayes.append(s_y)\n",
        "\n",
        "    y_pred_bayes.append(arr_bayes)\n",
        "    var_bayes.append(arr_var_bayes)\n",
        "\n"
      ]
    },
    {
      "cell_type": "code",
      "execution_count": 37,
      "metadata": {},
      "outputs": [
        {
          "data": {
            "image/png": "[encoded data removed]",
            "text/plain": [
              "<Figure size 432x288 with 1 Axes>"
            ]
          },
          "metadata": {
            "needs_background": "light"
          },
          "output_type": "display_data"
        }
      ],
      "source": [
        "# for sn=0.05\n",
        "plt.plot(x_random_bayes, y_pred_bayes[0], 'bo')\n",
        "plt.plot(x_random_bayes, polynomial(x_random_bayes, opt_coef), 'ko')\n",
        "plt.errorbar(x_random_bayes, y_pred_bayes[0], yerr=var_bayes[0], fmt='r+')\n",
        "plt.show()\n"
      ]
    },
    {
      "cell_type": "code",
      "execution_count": 38,
      "metadata": {},
      "outputs": [
        {
          "data": {
            "image/png": "[encoded data removed]",
            "text/plain": [
              "<Figure size 432x288 with 1 Axes>"
            ]
          },
          "metadata": {
            "needs_background": "light"
          },
          "output_type": "display_data"
        }
      ],
      "source": [
        "# for sn=0.15\n",
        "plt.plot(x_random_bayes, y_pred_bayes[1], 'bo')\n",
        "plt.plot(x_random_bayes, polynomial(x_random_bayes, opt_coef), 'ko')\n",
        "plt.errorbar(x_random_bayes, y_pred_bayes[1], yerr=var_bayes[1], fmt='r+')\n",
        "plt.show()"
      ]
    },
    {
      "cell_type": "markdown",
      "metadata": {},
      "source": [
        "#### Observing the plots above, we can understand that as higher as the variance of noise is, we have bigger uncertainty - error. So, we prefer a smaller variance of noise."
      ]
    },
    {
      "cell_type": "markdown",
      "metadata": {},
      "source": [
        "### Task 5"
      ]
    },
    {
      "cell_type": "code",
      "execution_count": 39,
      "metadata": {},
      "outputs": [],
      "source": [
        "# declare our new parameters\n",
        "new_theta = [-10.54, 0.465, 0.0087, -0.093, -0.004]\n",
        "new_theta = np.reshape(new_theta, (1,5))\n",
        "new_theta = np.transpose(new_theta)\n",
        "\n",
        "sth2_new = [0.1, 2]"
      ]
    },
    {
      "cell_type": "code",
      "execution_count": 40,
      "metadata": {},
      "outputs": [],
      "source": [
        "# Calculate Bayesian Inference for 20 samples base on our previous knowledge\n",
        "y_pred_bayes_20 = []\n",
        "var_bayes_20 = []\n",
        "\n",
        "for sth in sth2_new :\n",
        "    s_theta_y = np.linalg.inv(((1/sth)*np.identity(5) + (1/sn2[0])*np.matmul(np.transpose(x_matrix),x_matrix)))\n",
        "    a_param = 1/sn2[0]*s_theta_y\n",
        "    b_param = np.matmul(a_param, np.transpose(x_matrix))\n",
        "    c_param = np.matmul(x_matrix, new_theta)\n",
        "    d_param = np.reshape(y, (20,1)) - c_param\n",
        "    e_param = np.matmul(b_param, d_param)\n",
        "    m_theta_y = np.add(new_theta, e_param)\n",
        "\n",
        "    arr_bayes =[]\n",
        "    arr_var_bayes =[]\n",
        "    # for 20\n",
        "    for idx, row in enumerate(x_random_bayes_matrix):\n",
        "        m_y = np.matmul(row, m_theta_y)\n",
        "        arr_bayes.append(m_y[0])\n",
        "\n",
        "        s_theta_y_var = np.linalg.inv((sn2[0]*np.identity(5) + sth*np.matmul(np.transpose(x_matrix),x_matrix)))\n",
        "        f_param = sn2[0]*sth*row\n",
        "        g_param = np.matmul(f_param, s_theta_y_var)\n",
        "        h_param = np.matmul(g_param, np.transpose(row))\n",
        "        s_y = sn2[0] + h_param\n",
        "        arr_var_bayes.append(s_y)\n",
        "\n",
        "\n",
        "    y_pred_bayes_20.append(arr_bayes)    \n",
        "    var_bayes_20.append(arr_var_bayes)\n"
      ]
    },
    {
      "cell_type": "code",
      "execution_count": 41,
      "metadata": {},
      "outputs": [
        {
          "data": {
            "image/png": "[encoded data removed]",
            "text/plain": [
              "<Figure size 432x288 with 1 Axes>"
            ]
          },
          "metadata": {
            "needs_background": "light"
          },
          "output_type": "display_data"
        }
      ],
      "source": [
        "# for sth=0.1\n",
        "plt.plot(x_random_bayes, y_pred_bayes_20[0], 'bo')\n",
        "plt.plot(x_random_bayes, polynomial(x_random_bayes, opt_coef), 'ko')\n",
        "plt.errorbar(x_random_bayes, y_pred_bayes_20[0], yerr=var_bayes_20[0], fmt='r+')\n",
        "plt.show()"
      ]
    },
    {
      "cell_type": "code",
      "execution_count": 42,
      "metadata": {},
      "outputs": [
        {
          "data": {
            "image/png": "[encoded data removed]",
            "text/plain": [
              "<Figure size 432x288 with 1 Axes>"
            ]
          },
          "metadata": {
            "needs_background": "light"
          },
          "output_type": "display_data"
        }
      ],
      "source": [
        "# for sn=2\n",
        "plt.plot(x_random_bayes, y_pred_bayes_20[1], 'bo')\n",
        "plt.plot(x_random_bayes, polynomial(x_random_bayes, opt_coef), 'ko')\n",
        "plt.errorbar(x_random_bayes, y_pred_bayes_20[1], yerr=var_bayes_20[1], fmt='r+')\n",
        "plt.show()"
      ]
    },
    {
      "cell_type": "markdown",
      "metadata": {},
      "source": [
        "### For 500 samples"
      ]
    },
    {
      "cell_type": "code",
      "execution_count": 43,
      "metadata": {},
      "outputs": [],
      "source": [
        "# repeat the process for 500 samples\n",
        "x500 = np.linspace(0, 2, 500)\n",
        "y_500 = polynomial(x500, opt_coef)"
      ]
    },
    {
      "cell_type": "code",
      "execution_count": 44,
      "metadata": {},
      "outputs": [],
      "source": [
        "x_matrix_500 = []\n",
        "\n",
        "for i in x500:\n",
        "    x_matrix_500.append([1, i, pow(i,2), pow(i,3), pow(i,5)])\n",
        "\n",
        "x_matrix_500 = np.array(x_matrix_500)"
      ]
    },
    {
      "cell_type": "code",
      "execution_count": 45,
      "metadata": {},
      "outputs": [],
      "source": [
        "x_random_bayes_500 = np.random.uniform(0, 2, size=(500))\n",
        "x_random_bayes_matrix_500 = []\n",
        "\n",
        "for i in x_random_bayes_500:\n",
        "  x_random_bayes_matrix_500.append([1, i, pow(i,2), pow(i,3), pow(i,5)])\n",
        "\n",
        "x_random_bayes_matrix_500 = np.array(x_random_bayes_matrix_500)"
      ]
    },
    {
      "cell_type": "code",
      "execution_count": 46,
      "metadata": {},
      "outputs": [],
      "source": [
        "y_pred_bayes_500 = []\n",
        "var_bayes_500 = []\n",
        "\n",
        "for sth in sth2_new :\n",
        "    s_theta_y = np.linalg.inv(((1/sth)*np.identity(5) + (1/sn2[0])*np.matmul(np.transpose(x_matrix_500),x_matrix_500)))\n",
        "    a_param = 1/sn2[0]*s_theta_y\n",
        "    b_param = np.matmul(a_param, np.transpose(x_matrix_500))\n",
        "    c_param = np.matmul(x_matrix_500, new_theta)\n",
        "    d_param = np.reshape(y_500, (500,1)) - c_param\n",
        "    e_param = np.matmul(b_param, d_param)\n",
        "    m_theta_y = np.add(new_theta, e_param)\n",
        "\n",
        "    arr_bayes =[]\n",
        "    arr_var_bayes =[]\n",
        "    # for 500\n",
        "    for idx, row in enumerate(x_random_bayes_matrix):\n",
        "        m_y = np.matmul(row, m_theta_y)\n",
        "        arr_bayes.append(m_y[0])\n",
        "\n",
        "        s_theta_y_var = np.linalg.inv((sn2[0]*np.identity(5) + sth*np.matmul(np.transpose(x_matrix),x_matrix)))\n",
        "        f_param = sn2[0]*sth*row\n",
        "        g_param = np.matmul(f_param, s_theta_y_var)\n",
        "        h_param = np.matmul(g_param, np.transpose(row))\n",
        "        s_y = sn2[0] + h_param\n",
        "        arr_var_bayes.append(s_y)\n",
        "\n",
        "\n",
        "    y_pred_bayes_500.append(arr_bayes)    \n",
        "    var_bayes_500.append(arr_var_bayes)\n"
      ]
    },
    {
      "cell_type": "code",
      "execution_count": 47,
      "metadata": {},
      "outputs": [
        {
          "data": {
            "image/png": "[encoded data removed]",
            "text/plain": [
              "<Figure size 432x288 with 1 Axes>"
            ]
          },
          "metadata": {
            "needs_background": "light"
          },
          "output_type": "display_data"
        }
      ],
      "source": [
        "# for sth=0.1\n",
        "plt.plot(x_random_bayes, y_pred_bayes_500[0], 'bo')\n",
        "plt.plot(x_random_bayes, polynomial(x_random_bayes, opt_coef), 'ko')\n",
        "plt.errorbar(x_random_bayes, y_pred_bayes_500[0], yerr=var_bayes_500[0], fmt='r+')\n",
        "plt.show()"
      ]
    },
    {
      "cell_type": "code",
      "execution_count": 48,
      "metadata": {},
      "outputs": [
        {
          "data": {
            "image/png": "[encoded data removed]",
            "text/plain": [
              "<Figure size 432x288 with 1 Axes>"
            ]
          },
          "metadata": {
            "needs_background": "light"
          },
          "output_type": "display_data"
        }
      ],
      "source": [
        "# for sth=2\n",
        "plt.plot(x_random_bayes, y_pred_bayes_500[1], 'bo')\n",
        "plt.plot(x_random_bayes, polynomial(x_random_bayes, opt_coef), 'ko')\n",
        "plt.errorbar(x_random_bayes, y_pred_bayes_500[1], yerr=var_bayes_500[1], fmt='r+')\n",
        "plt.show()"
      ]
    },
    {
      "cell_type": "markdown",
      "metadata": {},
      "source": [
        "#### For bigger s_theta we noticed that the prediction is more accurate. This makes sense, because we don't restrict so much our theta around the mean value of theta_0.\n",
        "\n",
        "#### At the same time, having a bigger sample, we can have our data fit better to our model. Better prediction.\n"
      ]
    },
    {
      "cell_type": "markdown",
      "metadata": {},
      "source": [
        "### Task 6"
      ]
    },
    {
      "cell_type": "code",
      "execution_count": 49,
      "metadata": {},
      "outputs": [],
      "source": [
        "# define params for Expectation Maximization method\n",
        "exp_max_n = 500\n",
        "a_em = 1 #s_theta_- 2\n",
        "b_em = 1 #s_n_- 2\n",
        "y_500_noise = y_500 + np.random.normal(0,np.sqrt(0.05),500) # new training set"
      ]
    },
    {
      "cell_type": "code",
      "execution_count": 50,
      "metadata": {},
      "outputs": [],
      "source": [
        "# repeat Expectation Maximization method until b(j) and b(j+1) converge  \n",
        "for i in range(0,50):\n",
        "  s_theta_y = np.linalg.inv((a_em*np.identity(5) + b_em*np.matmul(np.transpose(x_matrix_500),x_matrix_500)))\n",
        "  a_param = b_em*s_theta_y\n",
        "  b_param = np.matmul(a_param, np.transpose(x_matrix_500))\n",
        "  m_theta_y = np.matmul(b_param, y_500_noise)\n",
        "\n",
        "  norm_A = pow(np.linalg.norm(m_theta_y), 2)\n",
        "  A = np.add(norm_A, np.trace(s_theta_y))\n",
        "\n",
        "  c_param = np.matmul(x_matrix_500, m_theta_y)\n",
        "  d_param = np.subtract(y_500_noise, c_param)\n",
        "  norm_B = pow(np.linalg.norm(d_param), 2)\n",
        "  e_param = np.matmul(x_matrix_500, s_theta_y)\n",
        "  f_param = np.matmul(e_param, np.transpose(x_matrix_500))\n",
        "  B = np.add(norm_B, np.trace(f_param))\n",
        "\n",
        "  K = 5 # number of dimension in coefficient\n",
        "  Q = K/2*np.log(a_em) + 250*np.log(b_em) + (a_em/2)*A - (b_em/2)*B - ((250 + (K/2))*np.log(2*np.pi))\n",
        "  \n",
        "  \n",
        "  a_new = K/A\n",
        "  b_new = exp_max_n/B\n",
        "\n",
        "  if(abs(b_em - b_new) < 0.0001) :\n",
        "      break\n",
        "\n",
        "  b_em = b_new \n",
        "  a_em = a_new "
      ]
    },
    {
      "cell_type": "code",
      "execution_count": 51,
      "metadata": {},
      "outputs": [],
      "source": [
        "# test our results in a new random sample, consisting of 20 random points in interval [0,2]\n",
        "s_theta_y = np.linalg.inv((a_em*np.identity(5) + b_em*np.matmul(np.transpose(x_matrix_500),x_matrix_500)))\n",
        "a_param = b_em*s_theta_y\n",
        "b_param = np.matmul(a_param, np.transpose(x_matrix_500))\n",
        "c_param = np.matmul(x_matrix_500, opt_coef)\n",
        "d_param = np.reshape(y_500_noise, (500,1)) - c_param\n",
        "e_param = np.matmul(b_param, d_param)\n",
        "m_theta_y = np.add(opt_coef, e_param)\n",
        "\n",
        "arr_bayes_em =[]\n",
        "arr_var_bayes_em =[]\n",
        "# for 500\n",
        "for idx, row in enumerate(x_random_bayes_matrix):\n",
        "    m_y = np.matmul(row, m_theta_y)\n",
        "    arr_bayes_em.append(m_y[0])\n",
        "\n",
        "    s_theta_y_var = np.linalg.inv(((1/b_em)*np.identity(5) + (1/a_em)*np.matmul(np.transpose(x_matrix),x_matrix)))\n",
        "    f_param = (1/b_em)*(1/a_em)*row\n",
        "    g_param = np.matmul(f_param, s_theta_y_var)\n",
        "    h_param = np.matmul(g_param, np.transpose(row))\n",
        "    s_y = sn2[0] + h_param\n",
        "    arr_var_bayes_em.append(s_y)"
      ]
    },
    {
      "cell_type": "code",
      "execution_count": 52,
      "metadata": {},
      "outputs": [
        {
          "data": {
            "image/png": "[encoded data removed]",
            "text/plain": [
              "<Figure size 432x288 with 1 Axes>"
            ]
          },
          "metadata": {
            "needs_background": "light"
          },
          "output_type": "display_data"
        }
      ],
      "source": [
        "plt.plot(x_random_bayes, arr_bayes_em, 'bo')\n",
        "plt.plot(x_random_bayes, polynomial(x_random_bayes, opt_coef), 'ko')\n",
        "plt.errorbar(x_random_bayes, arr_bayes_em, yerr=arr_var_bayes_em, fmt='r+')\n",
        "plt.show()"
      ]
    },
    {
      "cell_type": "markdown",
      "metadata": {},
      "source": [
        "#### Observing our results, we notice that Expectation Maximization method managed to predict our initial model in 4 iterations. The outcome fits very well our test set and not with much error. "
      ]
    },
    {
      "cell_type": "markdown",
      "metadata": {
        "id": "_Amw0W5IrkUm"
      },
      "source": [
        "## Problem 2"
      ]
    },
    {
      "cell_type": "markdown",
      "metadata": {},
      "source": [
        "### Task 1"
      ]
    },
    {
      "cell_type": "code",
      "execution_count": 131,
      "metadata": {},
      "outputs": [],
      "source": [
        "from sklearn.model_selection import train_test_split\n",
        "from scipy.spatial import distance"
      ]
    },
    {
      "cell_type": "code",
      "execution_count": 153,
      "metadata": {},
      "outputs": [],
      "source": [
        "def calculate_classification_knn(X_train, X_test, y_train, y_test):\n",
        "  k_nn = [3,5,8,10,12,15,20, 30]\n",
        "\n",
        "  test_size = X_test.shape[0]\n",
        "  \n",
        "  for k in k_nn:\n",
        "    success_categorization = 0\n",
        "    for index1,plant in enumerate(X_test):\n",
        "      distance_from_other_plants = []\n",
        "      test_class = y_test.index[index1]\n",
        "      category = {}\n",
        "\n",
        "      for index2,train_plant in enumerate(X_train):\n",
        "          train_class = y_train.index[index2]\n",
        "          distance_from_other_plants.append([distance.euclidean(train_plant, plant), y_test[test_class], y_train[train_class]])\n",
        "      \n",
        "      sorted_dist = np.array(sorted(distance_from_other_plants, key=lambda x:x[0]))\n",
        "      nearest_classes = sorted_dist[0:k,]\n",
        "\n",
        "      for item in nearest_classes:\n",
        "        if item[2] in category.keys():\n",
        "          category[item[2]] += 1\n",
        "        else :\n",
        "          category[item[2]] = 1\n",
        "\n",
        "\n",
        "      if y_test[test_class] == max(category, key=category.get):\n",
        "        success_categorization += 1\n",
        "\n",
        "    print(\"For k neighbors: \" + str(k))\n",
        "    print(\"success class \" + str((round(success_categorization/test_size, 2))*100) + \"%\")  "
      ]
    },
    {
      "cell_type": "markdown",
      "metadata": {},
      "source": [
        "#### IRIS Results\n",
        "We split our data in 60% train and 40% test data\n",
        "\n",
        "* We also tried different percentages of data split (80% train - 20% test / 60% train - 40% test), where we noticed that in lower train dataset size the k_nn needs more neighbors to classify correctly the test set, whereas in higher dataset size (ex.80%) the k_nn classifies the train dataset correclty with fewer k_nn\n",
        "* For 60%-40% we noticed that the optimal k is among 10-12, where lower or higher ks reduce the accuracy of the classification\n",
        "* For 70%-30% we noticed that the optimal k is 3 or higher  \n",
        "* For 80%-20% we noticed that the optimal k is 8 or higher  "
      ]
    },
    {
      "cell_type": "code",
      "execution_count": 154,
      "metadata": {},
      "outputs": [],
      "source": [
        "# IRIS Dataset\n",
        "iris_plants = pd.read_csv(\"iris.data\", header=None, delimiter=\",\")\n",
        "iris_plants_array = np.array(iris_plants)\n",
        "\n",
        "X_train_iris, X_test_iris, y_train_iris, y_test_iris = train_test_split(iris_plants_array[:,0:4], iris_plants[4], test_size=0.4, random_state=0)"
      ]
    },
    {
      "cell_type": "code",
      "execution_count": 155,
      "metadata": {},
      "outputs": [
        {
          "name": "stdout",
          "output_type": "stream",
          "text": [
            "For k neighbors: 3\n",
            "success class 93.0%\n",
            "For k neighbors: 5\n",
            "success class 95.0%\n",
            "For k neighbors: 8\n",
            "success class 93.0%\n",
            "For k neighbors: 10\n",
            "success class 97.0%\n",
            "For k neighbors: 12\n",
            "success class 97.0%\n",
            "For k neighbors: 15\n",
            "success class 93.0%\n",
            "For k neighbors: 20\n",
            "success class 90.0%\n",
            "For k neighbors: 30\n",
            "success class 87.0%\n"
          ]
        }
      ],
      "source": [
        "calculate_classification_knn(X_train_iris, X_test_iris, y_train_iris, y_test_iris)"
      ]
    },
    {
      "cell_type": "code",
      "execution_count": 156,
      "metadata": {},
      "outputs": [],
      "source": [
        "# PIMA INDIANS DIABETES Dataset\n",
        "pima_indians_diabetes = pd.read_csv(\"pima-indians-diabetes.data\", header=None, delimiter=\",\")\n",
        "pima_indians_diabetes_array = np.array(pima_indians_diabetes)"
      ]
    },
    {
      "cell_type": "code",
      "execution_count": 151,
      "metadata": {},
      "outputs": [],
      "source": [
        "X_train_pima, X_test_pima, y_train_pima, y_test_pima = train_test_split(pima_indians_diabetes_array[:,0:7], pima_indians_diabetes[8], test_size=0.2, random_state=0)"
      ]
    },
    {
      "cell_type": "markdown",
      "metadata": {},
      "source": [
        "#### PIMA Results\n",
        "We split our data in 80% train and 20% test data\n",
        "\n",
        "* We also tried different percentages of data split (70% train - 30% test / 60% train - 40% test), where we noticed that in lower train dataset size the k_nn doesn't achieve high accuracy with the test set, whereas in higher dataset size (ex.80%) the k_nn classifies the train dataset more accurelty\n",
        "* For 60%-40% we noticed that the optimal k is among 8-10 or 15 (75%), where other ks reduce the accuracy of the classification\n",
        "* For 70%-30% we noticed that the optimal k is 15 (75%)  \n",
        "* For 80%-20% we noticed that the optimal k is 20 or higher (78% -> 79%)  "
      ]
    },
    {
      "cell_type": "code",
      "execution_count": 157,
      "metadata": {},
      "outputs": [
        {
          "name": "stdout",
          "output_type": "stream",
          "text": [
            "For k neighbors: 3\n",
            "success class 73.0%\n",
            "For k neighbors: 5\n",
            "success class 74.0%\n",
            "For k neighbors: 8\n",
            "success class 74.0%\n",
            "For k neighbors: 10\n",
            "success class 74.0%\n",
            "For k neighbors: 12\n",
            "success class 75.0%\n",
            "For k neighbors: 15\n",
            "success class 78.0%\n",
            "For k neighbors: 20\n",
            "success class 78.0%\n",
            "For k neighbors: 30\n",
            "success class 79.0%\n"
          ]
        }
      ],
      "source": [
        "calculate_classification_knn(X_train_pima, X_test_pima, y_train_pima, y_test_pima)"
      ]
    },
    {
      "cell_type": "markdown",
      "metadata": {},
      "source": [
        "### Task 2"
      ]
    },
    {
      "cell_type": "markdown",
      "metadata": {},
      "source": [
        "##### a)Pdfs are gaussian. The covariance matrices are diagonal, with all diagonal elements equal."
      ]
    },
    {
      "cell_type": "code",
      "execution_count": null,
      "metadata": {},
      "outputs": [],
      "source": [
        "# BIC -> -2*log*L(θ) + k*log(n)\n",
        "def BIC(theta, k, n):\n",
        "  bic_result = -2*np.log() + k*np.log(n)\n",
        "  return bic_result"
      ]
    },
    {
      "cell_type": "code",
      "execution_count": null,
      "metadata": {},
      "outputs": [],
      "source": [
        "# AIC -> -2*log*L(θ) + 2*k\n",
        "def AIC(theta, k):\n",
        "  aic_result = -2*np.log() + 2*k\n",
        "  return aic_result"
      ]
    },
    {
      "cell_type": "code",
      "execution_count": 381,
      "metadata": {},
      "outputs": [],
      "source": [
        "def calculate_mean_variance_diagonal(dataset, class_index):\n",
        "  dataset_classes = dataset.groupby([class_index])\n",
        "  df_mean = dataset_classes.mean()\n",
        "  df_mean = df_mean.reset_index()\n",
        "\n",
        "  # calculate classes population\n",
        "  df = dataset.groupby([class_index], sort=False).size().reset_index(name='Count')\n",
        "  count_class = dict(zip(df[class_index],df['Count'] ))\n",
        "\n",
        "  # get classes name \n",
        "  mean = dict(zip(df_mean[class_index],np.array(df_mean[df_mean.columns.drop([class_index])])))\n",
        "  variance = dict(enumerate(dataset[class_index].unique()))\n",
        "  variance = { variance[k]:k for k in variance}\n",
        "\n",
        "  for index,item in dataset.iterrows():\n",
        "    variance[item[class_index]] += np.power(np.array(item.loc[0:class_index-1]) - mean[item[class_index]], 2)\n",
        "    # variance[item[class_index]] += np.matmul(np.array(item.loc[0:class_index-1]) - mean[item[class_index]], np.transpose(np.array(item.loc[0:class_index-1]) - mean[item[class_index]]))\n",
        "    # variance[item[class_index]] += np.matmul(np.array(item.loc[0:class_index-1]) - mean[item[class_index]], np.array(item.loc[0:class_index-1]) - mean[item[class_index]])\n",
        "  \n",
        "  # divide each class variance with the N\n",
        "  variance = {key: variance[key] / count_class.get(key, 0) for key in variance.keys()}\n",
        "  \n",
        "  return variance, mean\n"
      ]
    },
    {
      "cell_type": "code",
      "execution_count": 384,
      "metadata": {},
      "outputs": [],
      "source": [
        "variance_pima, mean_pima = calculate_mean_variance_diagonal(pima_indians_diabetes, 8)\n",
        "# print(variance_pima)\n",
        "# print(mean_pima)\n",
        "\n",
        "covariance_matrices_diagonal = {}\n",
        "for key in variance_pima:\n",
        "  covariance_matrices_diagonal[key] = variance_pima[key].mean()*np.identity(8)\n",
        "\n",
        "# print(covariance_matrices_diagonal)"
      ]
    },
    {
      "cell_type": "code",
      "execution_count": 428,
      "metadata": {},
      "outputs": [],
      "source": [
        "zero_class = pima_indians_diabetes.loc[pima_indians_diabetes[8] == 0]\n",
        "one_class = pima_indians_diabetes.loc[pima_indians_diabetes[8] == 1]\n",
        "zero_class_array = np.array(zero_class[[0,1,2,3,4,5,6,7]])\n",
        "one_class_array = np.array(one_class[[0,1,2,3,4,5,6,7]])\n",
        "\n",
        "y_zero = np.empty(shape=(zero_class_array.shape[0],1))\n",
        "y_zero.fill(0)\n",
        "\n",
        "y_one= np.empty(shape=(one_class_array.shape[0],1))\n",
        "y_one.fill(1)"
      ]
    },
    {
      "cell_type": "code",
      "execution_count": 429,
      "metadata": {},
      "outputs": [],
      "source": [
        "import math\n",
        "def calculate_probability(covar, N, sample, mean_class):\n",
        "  a_var = pow(2*math.pi,N*0.5)\n",
        "  b_var = pow(np.linalg.det(covar),0.5)\n",
        "  c_var = 1/(a_var*b_var)\n",
        "  d_var = np.transpose(sample-mean_class)\n",
        "  e_var = np.matmul(d_var, np.linalg.inv(covar))\n",
        "  f_var = np.matmul(e_var, (sample-mean_class))\n",
        "  g_var = -0.5*f_var\n",
        "  h_var = math.exp(g_var)\n",
        "  prob = c_var * h_var\n",
        "  return prob"
      ]
    },
    {
      "cell_type": "code",
      "execution_count": 430,
      "metadata": {},
      "outputs": [],
      "source": [
        "probability_zero = np.empty(shape=(zero_class_array.shape[0],1))\n",
        "for index, i in enumerate(zero_class_array):\n",
        "  probability_zero[index] = calculate_probability(covariance_matrices_diagonal[0],zero_class_array.shape[0], i, mean_pima[0])"
      ]
    },
    {
      "cell_type": "code",
      "execution_count": 431,
      "metadata": {},
      "outputs": [],
      "source": [
        "probability_one = np.empty(shape=(one_class_array.shape[0],1))\n",
        "for index, i in enumerate(one_class_array):\n",
        "  probability_one[index] = calculate_probability(covariance_matrices_diagonal[1],one_class_array.shape[0], i, mean_pima[1])"
      ]
    },
    {
      "cell_type": "code",
      "execution_count": 432,
      "metadata": {},
      "outputs": [
        {
          "data": {
            "text/plain": [
              "array([[1.05556403e-213],\n",
              "       [4.84429538e-213],\n",
              "       [1.15497808e-213],\n",
              "       [2.18858613e-214],\n",
              "       [9.57027840e-214],\n",
              "       [6.50064997e-214],\n",
              "       [3.36783407e-213],\n",
              "       [2.48948768e-217],\n",
              "       [9.06988465e-214],\n",
              "       [1.07903981e-213],\n",
              "       [1.82119249e-213],\n",
              "       [9.37461750e-214],\n",
              "       [9.76430655e-214],\n",
              "       [5.22197478e-213],\n",
              "       [8.31317064e-214],\n",
              "       [1.10289537e-213],\n",
              "       [2.90357442e-215],\n",
              "       [8.57837089e-214],\n",
              "       [1.25156237e-213],\n",
              "       [8.58729452e-214],\n",
              "       [9.80971851e-214],\n",
              "       [4.85553359e-214],\n",
              "       [7.10284684e-214],\n",
              "       [7.56144053e-214],\n",
              "       [1.58154066e-214],\n",
              "       [5.91612227e-213],\n",
              "       [4.24053491e-213],\n",
              "       [2.91545674e-213],\n",
              "       [8.55279703e-225],\n",
              "       [6.82636132e-214],\n",
              "       [1.72063879e-213],\n",
              "       [6.35146699e-214],\n",
              "       [8.48611625e-214],\n",
              "       [1.23565459e-214],\n",
              "       [2.43919473e-214],\n",
              "       [1.31410169e-213],\n",
              "       [1.27190703e-213],\n",
              "       [7.66318954e-214],\n",
              "       [4.55151529e-213],\n",
              "       [2.91307020e-213],\n",
              "       [8.12830661e-214],\n",
              "       [2.92833770e-219],\n",
              "       [8.92068599e-214],\n",
              "       [1.50440279e-215],\n",
              "       [4.86699197e-214],\n",
              "       [1.15137804e-213],\n",
              "       [1.32655938e-213],\n",
              "       [1.03666708e-213],\n",
              "       [9.96973690e-215],\n",
              "       [5.38948788e-213],\n",
              "       [1.23840157e-213],\n",
              "       [2.28764360e-213],\n",
              "       [7.93286795e-214],\n",
              "       [6.86905862e-213],\n",
              "       [1.33367547e-213],\n",
              "       [7.49163176e-214],\n",
              "       [1.08300817e-214],\n",
              "       [3.41739163e-213],\n",
              "       [4.55311078e-213],\n",
              "       [5.38409366e-217],\n",
              "       [1.15376998e-213],\n",
              "       [3.43216632e-213],\n",
              "       [5.54889680e-213],\n",
              "       [6.15470248e-214],\n",
              "       [7.85457533e-214],\n",
              "       [3.97762572e-213],\n",
              "       [9.17608282e-214],\n",
              "       [5.05319302e-214],\n",
              "       [3.83940524e-214],\n",
              "       [7.46556835e-214],\n",
              "       [2.06210000e-213],\n",
              "       [3.92977887e-213],\n",
              "       [7.65940911e-214],\n",
              "       [7.03572008e-214],\n",
              "       [1.21742185e-213],\n",
              "       [5.85655710e-213],\n",
              "       [1.16185489e-213],\n",
              "       [4.84853122e-213],\n",
              "       [5.70495226e-214],\n",
              "       [1.36211889e-213],\n",
              "       [4.93845704e-213],\n",
              "       [9.65530719e-214],\n",
              "       [5.71140953e-213],\n",
              "       [1.09007692e-213],\n",
              "       [5.99132149e-213],\n",
              "       [5.17600802e-213],\n",
              "       [9.93449803e-214],\n",
              "       [4.48057364e-223],\n",
              "       [8.14675595e-214],\n",
              "       [1.16986586e-213],\n",
              "       [6.39108469e-213],\n",
              "       [2.20139481e-220],\n",
              "       [9.08587967e-214],\n",
              "       [4.09683504e-214],\n",
              "       [2.73943327e-213],\n",
              "       [4.67799627e-214],\n",
              "       [1.14607390e-213],\n",
              "       [5.80587057e-216],\n",
              "       [1.14077140e-213],\n",
              "       [3.56525435e-240],\n",
              "       [4.89262675e-213],\n",
              "       [1.42230051e-213],\n",
              "       [5.49180502e-213],\n",
              "       [5.57829224e-214],\n",
              "       [3.55112250e-213],\n",
              "       [3.33766696e-220],\n",
              "       [1.26256614e-213],\n",
              "       [7.83631457e-214],\n",
              "       [1.14968965e-213],\n",
              "       [1.19017173e-213],\n",
              "       [5.95321006e-213],\n",
              "       [2.11574852e-214],\n",
              "       [3.38937556e-213],\n",
              "       [4.43022698e-213],\n",
              "       [8.83712127e-214],\n",
              "       [6.61456859e-214],\n",
              "       [9.22145922e-214],\n",
              "       [5.72282346e-213],\n",
              "       [4.41989005e-215],\n",
              "       [7.07520364e-214],\n",
              "       [8.12145522e-214],\n",
              "       [1.11199184e-213],\n",
              "       [4.33156097e-213],\n",
              "       [9.69851237e-214],\n",
              "       [1.08408214e-213],\n",
              "       [1.24311164e-213],\n",
              "       [8.10424865e-214],\n",
              "       [1.36070625e-213],\n",
              "       [5.46313074e-213],\n",
              "       [2.88473514e-215],\n",
              "       [1.30271987e-213],\n",
              "       [5.77129743e-213],\n",
              "       [9.74287493e-214],\n",
              "       [4.61182837e-214],\n",
              "       [1.35808524e-214],\n",
              "       [2.58450086e-213],\n",
              "       [2.14599690e-214],\n",
              "       [1.79278970e-215],\n",
              "       [6.53791830e-213],\n",
              "       [3.46818407e-213],\n",
              "       [1.10958242e-213],\n",
              "       [6.92245336e-285],\n",
              "       [5.49827323e-213],\n",
              "       [3.33181911e-213],\n",
              "       [1.12430066e-213],\n",
              "       [3.64947517e-213],\n",
              "       [1.08669154e-213],\n",
              "       [1.14523022e-213],\n",
              "       [5.25595647e-213],\n",
              "       [1.51361412e-215],\n",
              "       [1.07914822e-213],\n",
              "       [1.60965210e-271],\n",
              "       [3.66147627e-230],\n",
              "       [1.19354171e-213],\n",
              "       [1.02593411e-213],\n",
              "       [9.52221892e-214],\n",
              "       [5.50215260e-213],\n",
              "       [1.02884493e-213],\n",
              "       [1.13788602e-213],\n",
              "       [1.34158304e-213],\n",
              "       [1.50597941e-228],\n",
              "       [1.84821956e-214],\n",
              "       [1.17493335e-213],\n",
              "       [6.24492942e-214],\n",
              "       [6.48709804e-213],\n",
              "       [9.63932487e-214],\n",
              "       [1.01151581e-213],\n",
              "       [6.25738937e-213],\n",
              "       [1.04668778e-213],\n",
              "       [2.35772953e-213],\n",
              "       [9.78082088e-214],\n",
              "       [4.46820285e-213],\n",
              "       [3.18639669e-213],\n",
              "       [9.14888640e-214],\n",
              "       [1.09144879e-219],\n",
              "       [2.16304219e-213],\n",
              "       [3.66232348e-214],\n",
              "       [1.02144091e-213],\n",
              "       [1.59198062e-248],\n",
              "       [5.48038805e-213],\n",
              "       [5.92694986e-213],\n",
              "       [3.06073451e-213],\n",
              "       [2.70320513e-214],\n",
              "       [1.48310093e-213],\n",
              "       [2.82602205e-216],\n",
              "       [8.96657301e-214],\n",
              "       [3.05031453e-213],\n",
              "       [6.31957923e-214],\n",
              "       [3.82288109e-213],\n",
              "       [5.71955158e-214],\n",
              "       [9.16269423e-214],\n",
              "       [6.62139189e-214],\n",
              "       [5.73193034e-213],\n",
              "       [5.82886400e-213],\n",
              "       [6.27713996e-213],\n",
              "       [1.02644783e-213],\n",
              "       [5.12762455e-217],\n",
              "       [1.21678382e-213],\n",
              "       [9.68365703e-215],\n",
              "       [2.09684737e-214],\n",
              "       [6.88500572e-213],\n",
              "       [1.20107962e-213],\n",
              "       [5.26428285e-213],\n",
              "       [1.02140488e-213],\n",
              "       [6.14266697e-213],\n",
              "       [7.42101278e-219],\n",
              "       [2.08414092e-214],\n",
              "       [3.82177742e-213],\n",
              "       [6.63537841e-213],\n",
              "       [1.61643367e-215],\n",
              "       [1.00435054e-213],\n",
              "       [8.45356067e-214],\n",
              "       [2.68130621e-213],\n",
              "       [4.16375606e-213],\n",
              "       [2.14996082e-214],\n",
              "       [6.73060864e-213],\n",
              "       [9.61370385e-214],\n",
              "       [8.41272505e-214],\n",
              "       [4.87513163e-214],\n",
              "       [4.80549011e-213],\n",
              "       [9.13317137e-214],\n",
              "       [4.30975936e-213],\n",
              "       [3.64239726e-214],\n",
              "       [4.43588238e-214],\n",
              "       [6.93132077e-221],\n",
              "       [5.99151441e-213],\n",
              "       [1.23028983e-213],\n",
              "       [4.73242576e-213],\n",
              "       [4.30436173e-213],\n",
              "       [5.49968065e-213],\n",
              "       [4.78725654e-213],\n",
              "       [3.03255428e-214],\n",
              "       [5.78570891e-213],\n",
              "       [5.08224577e-213],\n",
              "       [3.80360535e-213],\n",
              "       [6.54932418e-213],\n",
              "       [1.26359884e-213],\n",
              "       [6.76108031e-215],\n",
              "       [5.99923408e-213],\n",
              "       [3.61338337e-213],\n",
              "       [5.59779871e-213],\n",
              "       [6.76371408e-213],\n",
              "       [2.04470046e-215],\n",
              "       [1.44923984e-231],\n",
              "       [6.13995433e-213],\n",
              "       [1.57898484e-219],\n",
              "       [2.76165456e-213],\n",
              "       [8.63724728e-214],\n",
              "       [7.26492182e-214],\n",
              "       [7.61606381e-214],\n",
              "       [1.97669436e-214],\n",
              "       [1.09774344e-213],\n",
              "       [9.73913816e-214],\n",
              "       [1.14525187e-214],\n",
              "       [3.90601885e-222],\n",
              "       [4.65620263e-213],\n",
              "       [1.24642406e-213],\n",
              "       [8.67426498e-214],\n",
              "       [1.25233159e-214],\n",
              "       [6.38269649e-213],\n",
              "       [5.06619089e-213],\n",
              "       [1.29929095e-213],\n",
              "       [1.46485481e-214],\n",
              "       [4.36434485e-214],\n",
              "       [2.07049240e-214],\n",
              "       [5.60699238e-213],\n",
              "       [4.89779136e-213],\n",
              "       [8.61259135e-214],\n",
              "       [1.10858869e-213],\n",
              "       [7.79157793e-214],\n",
              "       [7.16963225e-214],\n",
              "       [1.16910144e-213],\n",
              "       [1.01744526e-213],\n",
              "       [4.87705200e-213],\n",
              "       [2.73597431e-213],\n",
              "       [6.90322214e-213],\n",
              "       [4.17598995e-213],\n",
              "       [6.91927091e-213],\n",
              "       [4.07839055e-213],\n",
              "       [4.72909049e-216],\n",
              "       [1.16511733e-214],\n",
              "       [3.92956994e-213],\n",
              "       [6.29336365e-214],\n",
              "       [5.79563582e-213],\n",
              "       [2.21136585e-213],\n",
              "       [5.82572105e-213],\n",
              "       [6.59881423e-214],\n",
              "       [3.38116574e-213],\n",
              "       [1.05732913e-213],\n",
              "       [8.34045320e-214],\n",
              "       [3.79615983e-213],\n",
              "       [2.71323483e-213],\n",
              "       [4.33193762e-213],\n",
              "       [4.52845965e-214],\n",
              "       [6.96411998e-214],\n",
              "       [9.02427570e-214],\n",
              "       [1.22987992e-213],\n",
              "       [6.94126877e-214],\n",
              "       [1.15855217e-213],\n",
              "       [7.14268206e-214],\n",
              "       [3.86322370e-213],\n",
              "       [5.66504845e-213],\n",
              "       [6.84004002e-214],\n",
              "       [9.94222330e-214],\n",
              "       [4.95588476e-213],\n",
              "       [1.60571200e-213],\n",
              "       [2.37433227e-239],\n",
              "       [1.21711811e-219],\n",
              "       [1.28952324e-213],\n",
              "       [5.68130636e-215],\n",
              "       [5.38236113e-213],\n",
              "       [9.09446196e-214],\n",
              "       [1.16175020e-213],\n",
              "       [1.14918428e-214],\n",
              "       [2.47517359e-214],\n",
              "       [1.18580329e-213],\n",
              "       [5.27338901e-213],\n",
              "       [1.36880693e-215],\n",
              "       [5.88316386e-213],\n",
              "       [9.95248201e-214],\n",
              "       [6.17976438e-213],\n",
              "       [1.03412845e-213],\n",
              "       [6.95600866e-214],\n",
              "       [1.54940051e-214],\n",
              "       [4.89832914e-213],\n",
              "       [7.44837759e-214],\n",
              "       [4.07574802e-216],\n",
              "       [7.92821339e-214],\n",
              "       [1.00210812e-213],\n",
              "       [5.82004223e-213],\n",
              "       [8.35449593e-214],\n",
              "       [7.20020157e-214],\n",
              "       [1.98275824e-223],\n",
              "       [3.65457571e-213],\n",
              "       [1.60464979e-213],\n",
              "       [1.60418461e-214],\n",
              "       [1.04260376e-213],\n",
              "       [1.04091098e-213],\n",
              "       [5.97986162e-213],\n",
              "       [4.40605050e-213],\n",
              "       [4.19460606e-215],\n",
              "       [1.17240183e-213],\n",
              "       [4.08095471e-213],\n",
              "       [1.05210503e-213],\n",
              "       [3.95754140e-213],\n",
              "       [1.98869834e-214],\n",
              "       [4.24755926e-213],\n",
              "       [9.20414367e-214],\n",
              "       [2.62429285e-214],\n",
              "       [4.41826520e-216],\n",
              "       [4.44029430e-213],\n",
              "       [5.73892975e-213],\n",
              "       [2.15474643e-214],\n",
              "       [1.76962631e-213],\n",
              "       [7.42589163e-215],\n",
              "       [1.26595424e-213],\n",
              "       [3.38604493e-213],\n",
              "       [6.66531411e-214],\n",
              "       [4.80671907e-213],\n",
              "       [2.64530455e-213],\n",
              "       [3.04459344e-216],\n",
              "       [1.08701867e-213],\n",
              "       [8.95490633e-214],\n",
              "       [9.98202387e-214],\n",
              "       [9.20341819e-214],\n",
              "       [5.38187159e-213],\n",
              "       [6.40063620e-213],\n",
              "       [9.88212294e-214],\n",
              "       [5.34482590e-213],\n",
              "       [2.55058835e-213],\n",
              "       [1.77347118e-213],\n",
              "       [1.10176954e-213],\n",
              "       [8.09123227e-214],\n",
              "       [7.40605493e-214],\n",
              "       [5.33993199e-213],\n",
              "       [2.60063399e-213],\n",
              "       [1.07551977e-223],\n",
              "       [4.33280760e-213],\n",
              "       [1.54765370e-213],\n",
              "       [9.61636923e-214],\n",
              "       [1.28963359e-213],\n",
              "       [8.73539070e-214],\n",
              "       [1.04733138e-213],\n",
              "       [1.08328230e-213],\n",
              "       [1.15287017e-213],\n",
              "       [1.32601640e-214],\n",
              "       [8.04363029e-214],\n",
              "       [2.34874677e-213],\n",
              "       [5.06774701e-217],\n",
              "       [5.13538233e-214],\n",
              "       [1.53171941e-213],\n",
              "       [2.04241081e-213],\n",
              "       [1.16283161e-213],\n",
              "       [2.06939164e-214],\n",
              "       [1.14384383e-213],\n",
              "       [1.12570238e-213],\n",
              "       [4.64554243e-213],\n",
              "       [1.18804551e-219],\n",
              "       [7.11204931e-215],\n",
              "       [3.93240345e-214],\n",
              "       [1.24506479e-213],\n",
              "       [1.16667215e-213],\n",
              "       [8.87175749e-214],\n",
              "       [1.28763819e-213],\n",
              "       [2.76245459e-214],\n",
              "       [1.17497887e-213],\n",
              "       [1.25357456e-214],\n",
              "       [2.80227877e-213],\n",
              "       [1.14236764e-213],\n",
              "       [3.89173691e-213],\n",
              "       [1.04673160e-213],\n",
              "       [9.30725924e-214],\n",
              "       [9.38697734e-214],\n",
              "       [1.18698873e-213],\n",
              "       [5.02415919e-213],\n",
              "       [1.13165012e-213],\n",
              "       [5.63332742e-215],\n",
              "       [1.02666612e-213],\n",
              "       [1.05213681e-213],\n",
              "       [6.46695309e-213],\n",
              "       [5.51295665e-213],\n",
              "       [4.01786364e-213],\n",
              "       [1.03764524e-213],\n",
              "       [1.96239902e-214],\n",
              "       [5.84871410e-214],\n",
              "       [1.19628617e-234],\n",
              "       [1.27915518e-213],\n",
              "       [4.11443649e-213],\n",
              "       [4.28775451e-213],\n",
              "       [5.77963876e-213],\n",
              "       [1.06131432e-213],\n",
              "       [1.45113908e-213],\n",
              "       [5.16202719e-213],\n",
              "       [1.02333075e-215],\n",
              "       [5.35351733e-214],\n",
              "       [3.38620436e-214],\n",
              "       [1.31244431e-213],\n",
              "       [3.16447290e-215],\n",
              "       [2.25959154e-213],\n",
              "       [6.54339974e-215],\n",
              "       [1.16842854e-213],\n",
              "       [1.83735136e-213],\n",
              "       [9.43264103e-218],\n",
              "       [5.94027098e-214],\n",
              "       [1.02536906e-213],\n",
              "       [7.05528324e-219],\n",
              "       [1.90141651e-213],\n",
              "       [3.36279229e-213],\n",
              "       [3.78239986e-214],\n",
              "       [8.25065346e-216],\n",
              "       [9.80451465e-214],\n",
              "       [1.20953826e-213],\n",
              "       [6.07358895e-215],\n",
              "       [1.10858662e-213],\n",
              "       [5.01244518e-213],\n",
              "       [9.81234109e-214],\n",
              "       [2.07868397e-214],\n",
              "       [3.94860098e-214],\n",
              "       [1.07518387e-213],\n",
              "       [1.41154868e-215],\n",
              "       [1.87877715e-214],\n",
              "       [5.10868951e-213],\n",
              "       [8.28333462e-214],\n",
              "       [5.38184711e-224],\n",
              "       [5.94305958e-229],\n",
              "       [2.86221580e-213],\n",
              "       [1.20119244e-220],\n",
              "       [1.15397414e-213],\n",
              "       [9.65274521e-214],\n",
              "       [7.74119310e-215],\n",
              "       [9.41379243e-214],\n",
              "       [1.34340982e-215],\n",
              "       [3.67040897e-213],\n",
              "       [8.76022705e-214],\n",
              "       [1.09060798e-213],\n",
              "       [8.05365928e-215],\n",
              "       [8.46518110e-214],\n",
              "       [2.17903598e-214],\n",
              "       [9.40383528e-214],\n",
              "       [2.44170619e-214],\n",
              "       [9.65517523e-214],\n",
              "       [1.15622642e-213],\n",
              "       [2.23169930e-213],\n",
              "       [6.27245398e-214],\n",
              "       [3.37243258e-214],\n",
              "       [4.66442700e-213],\n",
              "       [3.12785988e-213],\n",
              "       [4.46114156e-214],\n",
              "       [3.47616643e-213],\n",
              "       [4.01575144e-213],\n",
              "       [5.78351774e-213],\n",
              "       [1.31611921e-213],\n",
              "       [7.37245945e-214],\n",
              "       [1.12868030e-213],\n",
              "       [2.12990823e-213],\n",
              "       [9.73321346e-214],\n",
              "       [4.36786958e-215],\n",
              "       [1.24958103e-213],\n",
              "       [3.60079042e-213],\n",
              "       [1.15115704e-213]])"
            ]
          },
          "execution_count": 432,
          "metadata": {},
          "output_type": "execute_result"
        }
      ],
      "source": [
        "probability_zero"
      ]
    },
    {
      "cell_type": "code",
      "execution_count": 433,
      "metadata": {},
      "outputs": [
        {
          "data": {
            "text/plain": [
              "array([[3.14222554e-122],\n",
              "       [2.12239577e-122],\n",
              "       [7.54920369e-122],\n",
              "       [9.10595040e-122],\n",
              "       [8.51326005e-138],\n",
              "       [1.94362448e-122],\n",
              "       [2.66125714e-122],\n",
              "       [2.62946159e-167],\n",
              "       [6.66067137e-122],\n",
              "       [8.54077286e-123],\n",
              "       [7.08878460e-123],\n",
              "       [2.42712045e-122],\n",
              "       [1.94709128e-121],\n",
              "       [1.61571675e-122],\n",
              "       [2.86840807e-122],\n",
              "       [1.29245403e-121],\n",
              "       [2.04459992e-121],\n",
              "       [3.01041783e-122],\n",
              "       [3.86413579e-123],\n",
              "       [2.36237248e-122],\n",
              "       [1.86201371e-122],\n",
              "       [1.84107993e-122],\n",
              "       [3.31294919e-123],\n",
              "       [2.30241018e-122],\n",
              "       [2.47646583e-122],\n",
              "       [7.97533138e-125],\n",
              "       [5.61020441e-125],\n",
              "       [3.02726635e-122],\n",
              "       [2.64542691e-122],\n",
              "       [2.57791899e-122],\n",
              "       [1.57483082e-121],\n",
              "       [2.66630227e-122],\n",
              "       [1.12214367e-122],\n",
              "       [2.27977215e-122],\n",
              "       [2.12052439e-121],\n",
              "       [2.69151158e-122],\n",
              "       [1.06781127e-122],\n",
              "       [2.78925961e-122],\n",
              "       [6.40395856e-122],\n",
              "       [1.44620591e-121],\n",
              "       [3.34405251e-134],\n",
              "       [6.84476762e-122],\n",
              "       [2.51877197e-122],\n",
              "       [2.90273805e-122],\n",
              "       [1.52644726e-121],\n",
              "       [2.52338256e-122],\n",
              "       [8.12442108e-122],\n",
              "       [1.30995542e-121],\n",
              "       [2.03537521e-122],\n",
              "       [7.71927739e-122],\n",
              "       [2.73333315e-122],\n",
              "       [9.65076870e-123],\n",
              "       [2.45864861e-122],\n",
              "       [1.16785928e-121],\n",
              "       [1.93828082e-122],\n",
              "       [2.73619746e-122],\n",
              "       [1.77684829e-121],\n",
              "       [2.82046387e-122],\n",
              "       [9.58147819e-122],\n",
              "       [2.23675206e-122],\n",
              "       [1.87861197e-121],\n",
              "       [1.35775702e-121],\n",
              "       [1.00604228e-121],\n",
              "       [2.92630965e-122],\n",
              "       [1.97198706e-122],\n",
              "       [2.30440429e-134],\n",
              "       [1.26185954e-121],\n",
              "       [1.66554393e-121],\n",
              "       [1.07056342e-121],\n",
              "       [2.87209411e-122],\n",
              "       [1.10876242e-122],\n",
              "       [1.96958189e-122],\n",
              "       [9.82491230e-122],\n",
              "       [1.64904693e-121],\n",
              "       [2.75494918e-125],\n",
              "       [2.61174131e-124],\n",
              "       [2.20601982e-122],\n",
              "       [2.25399921e-122],\n",
              "       [1.81576954e-121],\n",
              "       [6.42322265e-122],\n",
              "       [8.32538070e-124],\n",
              "       [1.43038174e-121],\n",
              "       [1.83014864e-122],\n",
              "       [2.59524657e-122],\n",
              "       [3.10644151e-133],\n",
              "       [2.31491857e-122],\n",
              "       [2.68481082e-122],\n",
              "       [2.78075327e-122],\n",
              "       [2.15566183e-127],\n",
              "       [2.50887549e-122],\n",
              "       [3.19851065e-122],\n",
              "       [2.26285667e-122],\n",
              "       [2.92899383e-122],\n",
              "       [2.74277374e-122],\n",
              "       [6.34388202e-122],\n",
              "       [2.20028961e-122],\n",
              "       [1.19006166e-123],\n",
              "       [2.64876499e-122],\n",
              "       [1.29851193e-121],\n",
              "       [1.16212236e-122],\n",
              "       [2.83970878e-122],\n",
              "       [1.15117752e-122],\n",
              "       [1.15335071e-122],\n",
              "       [2.22439223e-122],\n",
              "       [2.53944210e-122],\n",
              "       [2.99962277e-122],\n",
              "       [2.67299893e-122],\n",
              "       [2.32286526e-122],\n",
              "       [1.20419898e-122],\n",
              "       [1.50338085e-121],\n",
              "       [5.78082201e-122],\n",
              "       [3.29086141e-122],\n",
              "       [6.05249318e-127],\n",
              "       [4.19187597e-122],\n",
              "       [1.03482269e-122],\n",
              "       [1.65899229e-121],\n",
              "       [2.17902411e-122],\n",
              "       [1.67105722e-121],\n",
              "       [6.35057426e-122],\n",
              "       [2.64617718e-122],\n",
              "       [2.09396506e-121],\n",
              "       [2.66981625e-122],\n",
              "       [2.20617575e-122],\n",
              "       [1.60196799e-122],\n",
              "       [2.74887579e-122],\n",
              "       [3.13895660e-122],\n",
              "       [7.48906036e-122],\n",
              "       [1.13191994e-121],\n",
              "       [1.37148423e-121],\n",
              "       [8.80474111e-123],\n",
              "       [2.65586019e-122],\n",
              "       [8.27173434e-122],\n",
              "       [2.28862444e-122],\n",
              "       [7.43156945e-124],\n",
              "       [2.52795065e-122],\n",
              "       [7.92560788e-122],\n",
              "       [1.22399860e-122],\n",
              "       [1.85659368e-123],\n",
              "       [1.00091973e-125],\n",
              "       [2.55621993e-122],\n",
              "       [2.84170954e-122],\n",
              "       [1.35401259e-121],\n",
              "       [1.84409811e-132],\n",
              "       [1.31890038e-125],\n",
              "       [2.83530254e-122],\n",
              "       [2.95501566e-122],\n",
              "       [2.10614983e-122],\n",
              "       [3.19557258e-124],\n",
              "       [2.61994869e-122],\n",
              "       [2.86766108e-122],\n",
              "       [2.96005014e-122],\n",
              "       [1.94940987e-122],\n",
              "       [2.01700511e-122],\n",
              "       [1.98379106e-121],\n",
              "       [2.65459499e-122],\n",
              "       [2.64058889e-122],\n",
              "       [1.67469529e-122],\n",
              "       [2.37661135e-140],\n",
              "       [8.78190640e-122],\n",
              "       [5.69150994e-133],\n",
              "       [3.22741181e-122],\n",
              "       [2.01853569e-121],\n",
              "       [2.19709293e-122],\n",
              "       [4.07364837e-124],\n",
              "       [4.94769359e-122],\n",
              "       [4.40115700e-122],\n",
              "       [1.15987576e-122],\n",
              "       [1.76585749e-122],\n",
              "       [2.47396058e-122],\n",
              "       [2.87622007e-122],\n",
              "       [2.60770961e-122],\n",
              "       [1.23239866e-121],\n",
              "       [2.90922086e-122],\n",
              "       [2.60929372e-122],\n",
              "       [5.36512489e-123],\n",
              "       [1.08604645e-122],\n",
              "       [3.28459031e-122],\n",
              "       [1.16820333e-125],\n",
              "       [1.15660434e-122],\n",
              "       [2.87578028e-123],\n",
              "       [1.93115997e-121],\n",
              "       [8.12689696e-122],\n",
              "       [7.18387796e-124],\n",
              "       [1.54895548e-121],\n",
              "       [1.73590961e-122],\n",
              "       [2.02235423e-121],\n",
              "       [8.93916263e-122],\n",
              "       [2.95924153e-122],\n",
              "       [1.12788077e-122],\n",
              "       [9.98959791e-122],\n",
              "       [1.26892949e-122],\n",
              "       [4.68665574e-122],\n",
              "       [1.80569964e-122],\n",
              "       [7.40752964e-123],\n",
              "       [1.65259595e-122],\n",
              "       [2.75769105e-122],\n",
              "       [3.90043538e-124],\n",
              "       [9.29706205e-122],\n",
              "       [2.57092593e-122],\n",
              "       [5.44839020e-123],\n",
              "       [2.61107575e-122],\n",
              "       [6.13476693e-142],\n",
              "       [3.04818732e-122],\n",
              "       [9.17140970e-122],\n",
              "       [2.47501640e-122],\n",
              "       [2.95159353e-122],\n",
              "       [3.55001146e-122],\n",
              "       [2.53000559e-122],\n",
              "       [1.83498994e-121],\n",
              "       [8.49074490e-123],\n",
              "       [1.30959137e-124],\n",
              "       [3.40900048e-122],\n",
              "       [1.72592030e-125],\n",
              "       [1.51197104e-121],\n",
              "       [2.68304558e-122],\n",
              "       [1.04405814e-122],\n",
              "       [2.61418413e-122],\n",
              "       [2.32979690e-122],\n",
              "       [1.48781189e-121],\n",
              "       [2.89863196e-122],\n",
              "       [1.34265327e-121],\n",
              "       [7.64870483e-122],\n",
              "       [1.75676059e-121],\n",
              "       [2.56440460e-137],\n",
              "       [8.84329644e-122],\n",
              "       [1.55554527e-122],\n",
              "       [5.56985810e-123],\n",
              "       [1.68359742e-121],\n",
              "       [2.74218368e-122],\n",
              "       [2.66720222e-122],\n",
              "       [2.77823295e-122],\n",
              "       [1.76302778e-122],\n",
              "       [2.63296817e-122],\n",
              "       [2.58895026e-122],\n",
              "       [2.79375472e-122],\n",
              "       [2.82232006e-122],\n",
              "       [5.74441727e-122],\n",
              "       [1.98818247e-122],\n",
              "       [1.69698816e-121],\n",
              "       [2.97702131e-133],\n",
              "       [1.72021138e-121],\n",
              "       [3.01871589e-122],\n",
              "       [2.64392259e-122],\n",
              "       [8.15848941e-123],\n",
              "       [2.71970420e-122],\n",
              "       [6.96166569e-122],\n",
              "       [3.08276498e-122],\n",
              "       [1.40015963e-128],\n",
              "       [4.49927734e-122],\n",
              "       [2.21424984e-122],\n",
              "       [1.91499416e-121],\n",
              "       [1.99132834e-121],\n",
              "       [2.56465725e-122],\n",
              "       [1.48570406e-121],\n",
              "       [2.26996827e-122],\n",
              "       [1.18595826e-121],\n",
              "       [2.73502253e-122],\n",
              "       [2.67074517e-122],\n",
              "       [2.32907389e-122],\n",
              "       [2.64860090e-122],\n",
              "       [2.92378321e-122],\n",
              "       [2.25209254e-135],\n",
              "       [3.13726028e-122],\n",
              "       [1.92751650e-121],\n",
              "       [2.75679256e-122],\n",
              "       [1.53911533e-122],\n",
              "       [2.77196382e-122],\n",
              "       [2.80614876e-122]])"
            ]
          },
          "execution_count": 433,
          "metadata": {},
          "output_type": "execute_result"
        }
      ],
      "source": [
        "probability_one"
      ]
    },
    {
      "cell_type": "code",
      "execution_count": 437,
      "metadata": {},
      "outputs": [
        {
          "name": "stdout",
          "output_type": "stream",
          "text": [
            "[[-490.39654956]\n",
            " [-488.87282301]\n",
            " [-490.30654344]\n",
            " [-491.96995417]\n",
            " [-490.49454761]\n",
            " [-490.88130773]\n",
            " [-489.23635498]\n",
            " [-498.74888824]\n",
            " [-490.54825035]\n",
            " [-490.37455323]\n",
            " [-489.85113331]\n",
            " [-490.51520413]\n",
            " [-490.47447635]\n",
            " [-488.79774917]\n",
            " [-490.63536882]\n",
            " [-490.35268593]\n",
            " [-493.98985246]\n",
            " [-490.60396588]\n",
            " [-490.22623214]\n",
            " [-490.60292617]\n",
            " [-490.46983632]\n",
            " [-491.1730909 ]\n",
            " [-490.79271423]\n",
            " [-490.73014818]\n",
            " [-492.29481043]\n",
            " [-488.6729436 ]\n",
            " [-489.00593539]\n",
            " [-489.38059832]\n",
            " [-515.93538756]\n",
            " [-490.83241812]\n",
            " [-489.90792919]\n",
            " [-490.90452409]\n",
            " [-490.61477845]\n",
            " [-492.54160904]\n",
            " [-491.86154194]\n",
            " [-490.1774715 ]\n",
            " [-490.21010744]\n",
            " [-490.71678162]\n",
            " [-488.9351646 ]\n",
            " [-489.38141723]\n",
            " [-490.65785729]\n",
            " [-503.19170044]\n",
            " [-490.56483705]\n",
            " [-494.64739899]\n",
            " [-491.17073382]\n",
            " [-490.30966529]\n",
            " [-490.16803615]\n",
            " [-490.41461397]\n",
            " [-492.7562408 ]\n",
            " [-488.76617444]\n",
            " [-490.23680331]\n",
            " [-489.62310252]\n",
            " [-490.68219527]\n",
            " [-488.52359774]\n",
            " [-490.16268616]\n",
            " [-490.73942327]\n",
            " [-492.67346739]\n",
            " [-489.22174723]\n",
            " [-488.93481412]\n",
            " [-497.97751619]\n",
            " [-490.30758999]\n",
            " [-489.21743317]\n",
            " [-488.73702568]\n",
            " [-490.93599348]\n",
            " [-490.69211369]\n",
            " [-489.06993972]\n",
            " [-490.53660949]\n",
            " [-491.13318958]\n",
            " [-491.40789243]\n",
            " [-490.74290834]\n",
            " [-489.72689993]\n",
            " [-489.08204165]\n",
            " [-490.71727506]\n",
            " [-490.80220986]\n",
            " [-490.25388943]\n",
            " [-488.6830629 ]\n",
            " [-490.30060704]\n",
            " [-488.87194899]\n",
            " [-491.01187529]\n",
            " [-490.14158332]\n",
            " [-488.85357186]\n",
            " [-490.48570217]\n",
            " [-488.70815896]\n",
            " [-490.36437655]\n",
            " [-488.6603128 ]\n",
            " [-488.8065907 ]\n",
            " [-490.45719655]\n",
            " [-511.97672465]\n",
            " [-490.6555901 ]\n",
            " [-490.29373571]\n",
            " [-488.59572081]\n",
            " [-505.7796293 ]\n",
            " [-490.54648838]\n",
            " [-491.34299517]\n",
            " [-489.44287375]\n",
            " [-491.21034003]\n",
            " [-490.31428271]\n",
            " [-495.59951051]\n",
            " [-490.31892011]\n",
            " [-551.34918692]\n",
            " [-488.86289548]\n",
            " [-490.09834917]\n",
            " [-488.74736782]\n",
            " [-491.03432722]\n",
            " [-489.18336106]\n",
            " [-505.36344841]\n",
            " [-490.21747854]\n",
            " [-490.69444126]\n",
            " [-490.31113277]\n",
            " [-490.2765272 ]\n",
            " [-488.66669423]\n",
            " [-492.00380124]\n",
            " [-489.22997911]\n",
            " [-488.96217399]\n",
            " [-490.57424873]\n",
            " [-490.86393532]\n",
            " [-490.53167661]\n",
            " [-488.70616251]\n",
            " [-493.56968017]\n",
            " [-490.79661367]\n",
            " [-490.65870055]\n",
            " [-490.34447195]\n",
            " [-488.98469683]\n",
            " [-490.48123739]\n",
            " [-490.36989113]\n",
            " [-490.23300718]\n",
            " [-490.66082145]\n",
            " [-490.14262094]\n",
            " [-488.75260279]\n",
            " [-493.99636191]\n",
            " [-490.18617052]\n",
            " [-488.6977279 ]\n",
            " [-490.47667366]\n",
            " [-491.22458551]\n",
            " [-492.4471341 ]\n",
            " [-489.50109241]\n",
            " [-491.9896057 ]\n",
            " [-494.47202209]\n",
            " [-488.573006  ]\n",
            " [-489.20699367]\n",
            " [-490.34664106]\n",
            " [-654.30198126]\n",
            " [-488.74619072]\n",
            " [-489.24710637]\n",
            " [-490.3334636 ]\n",
            " [-489.15604144]\n",
            " [-490.36748701]\n",
            " [-490.31501913]\n",
            " [-488.79126281]\n",
            " [-494.64129474]\n",
            " [-490.37445277]\n",
            " [-623.52454213]\n",
            " [-528.29670497]\n",
            " [-490.27369969]\n",
            " [-490.42502129]\n",
            " [-490.499582  ]\n",
            " [-488.74548541]\n",
            " [-490.42218806]\n",
            " [-490.32145263]\n",
            " [-490.15677452]\n",
            " [-524.57995774]\n",
            " [-492.13898713]\n",
            " [-490.28941338]\n",
            " [-490.92144006]\n",
            " [-488.58080952]\n",
            " [-490.48735883]\n",
            " [-490.4391748 ]\n",
            " [-488.61686174]\n",
            " [-490.40499413]\n",
            " [-489.59292572]\n",
            " [-490.47278649]\n",
            " [-488.95363853]\n",
            " [-489.29173409]\n",
            " [-490.53957773]\n",
            " [-504.17862939]\n",
            " [-489.67910915]\n",
            " [-491.45511213]\n",
            " [-490.42941052]\n",
            " [-570.57612415]\n",
            " [-488.7494489 ]\n",
            " [-488.67111508]\n",
            " [-489.33196988]\n",
            " [-491.75877175]\n",
            " [-490.05648969]\n",
            " [-496.31951   ]\n",
            " [-490.55970635]\n",
            " [-489.3353801 ]\n",
            " [-490.90955727]\n",
            " [-489.10962046]\n",
            " [-491.00931949]\n",
            " [-490.53806964]\n",
            " [-490.8629043 ]\n",
            " [-488.70457245]\n",
            " [-488.68780268]\n",
            " [-488.61371035]\n",
            " [-490.42452067]\n",
            " [-498.02632268]\n",
            " [-490.25441364]\n",
            " [-492.78535537]\n",
            " [-492.01277493]\n",
            " [-488.52127884]\n",
            " [-490.26740397]\n",
            " [-488.78967988]\n",
            " [-490.42944579]\n",
            " [-488.6353658 ]\n",
            " [-502.26181982]\n",
            " [-492.01885316]\n",
            " [-489.1099092 ]\n",
            " [-488.55820911]\n",
            " [-494.57557271]\n",
            " [-490.4462837 ]\n",
            " [-490.61862217]\n",
            " [-489.46432074]\n",
            " [-489.02420724]\n",
            " [-491.98776028]\n",
            " [-488.54395923]\n",
            " [-490.49002034]\n",
            " [-490.62346445]\n",
            " [-491.1690628 ]\n",
            " [-488.88086577]\n",
            " [-490.54129691]\n",
            " [-488.98974274]\n",
            " [-491.46056785]\n",
            " [-491.26348335]\n",
            " [-506.93525517]\n",
            " [-488.6602806 ]\n",
            " [-490.24337503]\n",
            " [-488.89618689]\n",
            " [-488.99099594]\n",
            " [-488.74593478]\n",
            " [-488.88466731]\n",
            " [-491.64380464]\n",
            " [-488.69523391]\n",
            " [-488.82487156]\n",
            " [-489.11467542]\n",
            " [-488.57126294]\n",
            " [-490.21666093]\n",
            " [-493.14461231]\n",
            " [-488.658993  ]\n",
            " [-489.16598025]\n",
            " [-488.72825137]\n",
            " [-488.53905265]\n",
            " [-494.34054369]\n",
            " [-531.52611731]\n",
            " [-488.6358075 ]\n",
            " [-503.80935323]\n",
            " [-489.43479483]\n",
            " [-490.59712597]\n",
            " [-490.77015237]\n",
            " [-490.72295022]\n",
            " [-492.07178397]\n",
            " [-490.35736816]\n",
            " [-490.47705727]\n",
            " [-492.61758531]\n",
            " [-509.81137199]\n",
            " [-488.91242458]\n",
            " [-490.2303461 ]\n",
            " [-490.59284931]\n",
            " [-492.52820282]\n",
            " [-488.59703415]\n",
            " [-488.82803558]\n",
            " [-490.18880612]\n",
            " [-492.37145377]\n",
            " [-491.27974182]\n",
            " [-492.02542345]\n",
            " [-488.72661035]\n",
            " [-488.86184045]\n",
            " [-490.59998466]\n",
            " [-490.34753705]\n",
            " [-490.7001665 ]\n",
            " [-490.78335554]\n",
            " [-490.29438935]\n",
            " [-490.43332996]\n",
            " [-488.86608387]\n",
            " [-489.4441372 ]\n",
            " [-488.51863653]\n",
            " [-489.02127336]\n",
            " [-488.5163144 ]\n",
            " [-489.04492237]\n",
            " [-495.80464719]\n",
            " [-492.6003881 ]\n",
            " [-489.08209482]\n",
            " [-490.91371421]\n",
            " [-488.69351962]\n",
            " [-489.65701445]\n",
            " [-488.68834203]\n",
            " [-490.86631993]\n",
            " [-489.23240426]\n",
            " [-490.39487877]\n",
            " [-490.63209234]\n",
            " [-489.11663482]\n",
            " [-489.45248322]\n",
            " [-488.98460988]\n",
            " [-491.24282805]\n",
            " [-490.81243865]\n",
            " [-490.55329165]\n",
            " [-490.24370827]\n",
            " [-490.81572532]\n",
            " [-490.30345371]\n",
            " [-490.78712156]\n",
            " [-489.09912282]\n",
            " [-488.71630936]\n",
            " [-490.83041632]\n",
            " [-490.45641923]\n",
            " [-488.8500491 ]\n",
            " [-489.97705753]\n",
            " [-549.45312098]\n",
            " [-504.06964951]\n",
            " [-490.19635224]\n",
            " [-493.31861379]\n",
            " [-488.76749766]\n",
            " [-490.54554425]\n",
            " [-490.30069714]\n",
            " [-492.61415753]\n",
            " [-491.84689937]\n",
            " [-490.28020438]\n",
            " [-488.78795158]\n",
            " [-494.74185549]\n",
            " [-488.67853012]\n",
            " [-490.45538793]\n",
            " [-488.62934466]\n",
            " [-490.41706582]\n",
            " [-490.81360406]\n",
            " [-492.31534181]\n",
            " [-488.86173065]\n",
            " [-490.74521367]\n",
            " [-495.95332579]\n",
            " [-490.68278219]\n",
            " [-490.4485189 ]\n",
            " [-488.68931729]\n",
            " [-490.63041007]\n",
            " [-490.77910088]\n",
            " [-512.79198681]\n",
            " [-489.15464481]\n",
            " [-489.97771928]\n",
            " [-492.28059431]\n",
            " [-490.40890361]\n",
            " [-490.41052854]\n",
            " [-488.66222738]\n",
            " [-488.9676461 ]\n",
            " [-493.62199556]\n",
            " [-490.29157032]\n",
            " [-489.04429385]\n",
            " [-490.39983186]\n",
            " [-489.07500183]\n",
            " [-492.06572958]\n",
            " [-489.00428028]\n",
            " [-490.53355612]\n",
            " [-491.78839843]\n",
            " [-495.87263296]\n",
            " [-488.95990415]\n",
            " [-488.70335207]\n",
            " [-491.98553685]\n",
            " [-489.8798564 ]\n",
            " [-493.05082223]\n",
            " [-490.21479863]\n",
            " [-489.23096226]\n",
            " [-490.85629282]\n",
            " [-488.88061006]\n",
            " [-489.47783861]\n",
            " [-496.24501271]\n",
            " [-490.36718603]\n",
            " [-490.56100832]\n",
            " [-490.45242404]\n",
            " [-490.53363494]\n",
            " [-488.76758862]\n",
            " [-488.59422742]\n",
            " [-490.46248254]\n",
            " [-488.77449584]\n",
            " [-489.51430075]\n",
            " [-489.87768606]\n",
            " [-490.35370725]\n",
            " [-490.66242886]\n",
            " [-490.750912  ]\n",
            " [-488.77541189]\n",
            " [-489.49486955]\n",
            " [-513.40367169]\n",
            " [-488.98440907]\n",
            " [-490.01388477]\n",
            " [-490.48974313]\n",
            " [-490.19626667]\n",
            " [-490.58582723]\n",
            " [-490.40437942]\n",
            " [-490.37062921]\n",
            " [-490.30837018]\n",
            " [-492.47103064]\n",
            " [-490.66832939]\n",
            " [-489.59674291]\n",
            " [-498.03806884]\n",
            " [-491.1170556 ]\n",
            " [-490.02423391]\n",
            " [-489.73649393]\n",
            " [-490.29976673]\n",
            " [-492.02595523]\n",
            " [-490.31623044]\n",
            " [-490.33221763]\n",
            " [-488.91471667]\n",
            " [-504.09382584]\n",
            " [-493.09400456]\n",
            " [-491.3839591 ]\n",
            " [-490.23143724]\n",
            " [-490.29646943]\n",
            " [-490.57033698]\n",
            " [-490.19781513]\n",
            " [-491.73709027]\n",
            " [-490.28937464]\n",
            " [-492.52721078]\n",
            " [-489.42019188]\n",
            " [-490.31752182]\n",
            " [-489.09176924]\n",
            " [-490.40495226]\n",
            " [-490.52241524]\n",
            " [-490.51388656]\n",
            " [-490.27920519]\n",
            " [-488.83636669]\n",
            " [-490.32694796]\n",
            " [-493.32709471]\n",
            " [-490.42430803]\n",
            " [-490.39980165]\n",
            " [-488.58391974]\n",
            " [-488.74352373]\n",
            " [-489.05987448]\n",
            " [-490.41367085]\n",
            " [-492.07904219]\n",
            " [-490.98698808]\n",
            " [-538.62568986]\n",
            " [-490.20442496]\n",
            " [-489.03612292]\n",
            " [-488.99486164]\n",
            " [-488.69628363]\n",
            " [-490.39111675]\n",
            " [-490.07827599]\n",
            " [-488.80929544]\n",
            " [-495.03273225]\n",
            " [-491.07545611]\n",
            " [-491.53350026]\n",
            " [-490.17873352]\n",
            " [-493.90380849]\n",
            " [-489.63544074]\n",
            " [-493.17733813]\n",
            " [-490.29496509]\n",
            " [-489.84229975]\n",
            " [-499.71937415]\n",
            " [-490.97145515]\n",
            " [-490.42557221]\n",
            " [-502.31235863]\n",
            " [-489.80802567]\n",
            " [-489.23785314]\n",
            " [-491.42285121]\n",
            " [-495.24808768]\n",
            " [-490.47036694]\n",
            " [-490.26038612]\n",
            " [-493.2518453 ]\n",
            " [-490.34753892]\n",
            " [-488.83870095]\n",
            " [-490.46956901]\n",
            " [-492.02147491]\n",
            " [-491.37984857]\n",
            " [-490.37813312]\n",
            " [-494.71110754]\n",
            " [-492.12258879]\n",
            " [-488.81968189]\n",
            " [-490.63896428]\n",
            " [-514.09602919]\n",
            " [-525.50976221]\n",
            " [-489.39902873]\n",
            " [-506.38540569]\n",
            " [-490.30741305]\n",
            " [-490.48596755]\n",
            " [-493.00923917]\n",
            " [-490.51103401]\n",
            " [-494.76058397]\n",
            " [-489.15032172]\n",
            " [-490.58298808]\n",
            " [-490.36388949]\n",
            " [-492.96966844]\n",
            " [-490.61724849]\n",
            " [-491.97432733]\n",
            " [-490.51209229]\n",
            " [-491.86051285]\n",
            " [-490.48571584]\n",
            " [-490.30546319]\n",
            " [-489.64786149]\n",
            " [-490.91704224]\n",
            " [-491.53757558]\n",
            " [-488.91065981]\n",
            " [-489.31027578]\n",
            " [-491.25780521]\n",
            " [-489.20469472]\n",
            " [-489.06040032]\n",
            " [-488.6956127 ]\n",
            " [-490.17593739]\n",
            " [-490.75545854]\n",
            " [-490.32957574]\n",
            " [-489.69454591]\n",
            " [-490.4776658 ]\n",
            " [-493.58151961]\n",
            " [-490.22781649]\n",
            " [-489.16947143]\n",
            " [-490.30985725]]\n",
            "[[-279.77045003]\n",
            " [-280.16283581]\n",
            " [-278.89393926]\n",
            " [-278.70645325]\n",
            " [-315.61511788]\n",
            " [-280.25082683]\n",
            " [-279.93658272]\n",
            " [-383.56493142]\n",
            " [-279.01916106]\n",
            " [-281.07311494]\n",
            " [-281.25945254]\n",
            " [-280.02867579]\n",
            " [-277.94645965]\n",
            " [-280.43560268]\n",
            " [-279.86162415]\n",
            " [-278.35625349]\n",
            " [-277.89759412]\n",
            " [-279.81330246]\n",
            " [-281.86622838]\n",
            " [-280.05571494]\n",
            " [-280.2937228 ]\n",
            " [-280.30502903]\n",
            " [-282.02012765]\n",
            " [-280.08142487]\n",
            " [-280.00854887]\n",
            " [-285.74678342]\n",
            " [-286.09854947]\n",
            " [-279.80772133]\n",
            " [-279.94254889]\n",
            " [-279.96839886]\n",
            " [-278.1586484 ]\n",
            " [-279.93468875]\n",
            " [-280.8001405 ]\n",
            " [-280.09130584]\n",
            " [-277.86113284]\n",
            " [-279.92527838]\n",
            " [-280.84977033]\n",
            " [-279.88960516]\n",
            " [-279.05846502]\n",
            " [-278.24385274]\n",
            " [-307.33921906]\n",
            " [-278.99189684]\n",
            " [-279.99160988]\n",
            " [-279.8497269 ]\n",
            " [-278.18985327]\n",
            " [-279.98978106]\n",
            " [-278.82050687]\n",
            " [-278.34280315]\n",
            " [-280.20470116]\n",
            " [-278.87166059]\n",
            " [-279.90985955]\n",
            " [-280.95092887]\n",
            " [-280.01576949]\n",
            " [-278.45762386]\n",
            " [-280.25357994]\n",
            " [-279.90881218]\n",
            " [-278.03795508]\n",
            " [-279.87847998]\n",
            " [-278.65554947]\n",
            " [-280.11035651]\n",
            " [-277.98226306]\n",
            " [-278.30696217]\n",
            " [-278.60677216]\n",
            " [-279.84163922]\n",
            " [-280.23633965]\n",
            " [-307.71158026]\n",
            " [-278.3802098 ]\n",
            " [-278.1026445 ]\n",
            " [-278.54461118]\n",
            " [-279.86033993]\n",
            " [-280.81213688]\n",
            " [-280.23756006]\n",
            " [-278.63046011]\n",
            " [-278.11259875]\n",
            " [-286.80973763]\n",
            " [-284.56053436]\n",
            " [-280.12419144]\n",
            " [-280.10267528]\n",
            " [-278.01628689]\n",
            " [-279.05546138]\n",
            " [-283.40124277]\n",
            " [-278.25485489]\n",
            " [-280.31098416]\n",
            " [-279.96169982]\n",
            " [-305.11033951]\n",
            " [-280.07600683]\n",
            " [-279.92777108]\n",
            " [-279.89265949]\n",
            " [-291.66020902]\n",
            " [-279.99554671]\n",
            " [-279.75269607]\n",
            " [-280.09875332]\n",
            " [-279.84072239]\n",
            " [-279.90641162]\n",
            " [-279.06789046]\n",
            " [-280.12679235]\n",
            " [-283.04396132]\n",
            " [-279.94128786]\n",
            " [-278.35157731]\n",
            " [-280.76513339]\n",
            " [-279.87167984]\n",
            " [-280.77459599]\n",
            " [-280.77270998]\n",
            " [-280.11589762]\n",
            " [-279.98343694]\n",
            " [-279.81689481]\n",
            " [-279.93218031]\n",
            " [-280.0725799 ]\n",
            " [-280.72956674]\n",
            " [-278.20507978]\n",
            " [-279.16083546]\n",
            " [-279.72423199]\n",
            " [-290.62783653]\n",
            " [-279.48223299]\n",
            " [-280.88115125]\n",
            " [-278.10658589]\n",
            " [-280.13650422]\n",
            " [-278.09933976]\n",
            " [-279.0668361 ]\n",
            " [-279.94226532]\n",
            " [-277.87373682]\n",
            " [-279.93337169]\n",
            " [-280.12412076]\n",
            " [-280.44414848]\n",
            " [-279.90418932]\n",
            " [-279.77149089]\n",
            " [-278.90193801]\n",
            " [-278.488881  ]\n",
            " [-278.29690272]\n",
            " [-281.0426761 ]\n",
            " [-279.93861276]\n",
            " [-278.80253714]\n",
            " [-280.08743039]\n",
            " [-283.51481446]\n",
            " [-279.98797239]\n",
            " [-278.84528232]\n",
            " [-280.71325831]\n",
            " [-282.59922298]\n",
            " [-287.82221732]\n",
            " [-279.97685177]\n",
            " [-279.87097552]\n",
            " [-278.30972378]\n",
            " [-303.32924194]\n",
            " [-287.54633828]\n",
            " [-279.8732327 ]\n",
            " [-279.83187739]\n",
            " [-280.17051979]\n",
            " [-284.35878525]\n",
            " [-279.95222661]\n",
            " [-279.8618846 ]\n",
            " [-279.83017514]\n",
            " [-280.24785465]\n",
            " [-280.21376755]\n",
            " [-277.92778656]\n",
            " [-279.93908925]\n",
            " [-279.94437939]\n",
            " [-280.39975011]\n",
            " [-321.49623735]\n",
            " [-278.74268783]\n",
            " [-304.50484179]\n",
            " [-279.74370083]\n",
            " [-277.91042391]\n",
            " [-280.12824625]\n",
            " [-284.11601253]\n",
            " [-279.31645982]\n",
            " [-279.43351389]\n",
            " [-280.76706845]\n",
            " [-280.34674494]\n",
            " [-280.009561  ]\n",
            " [-279.85890439]\n",
            " [-279.95690906]\n",
            " [-278.40383385]\n",
            " [-279.84749605]\n",
            " [-279.95630177]\n",
            " [-281.53804678]\n",
            " [-280.83283735]\n",
            " [-279.72613942]\n",
            " [-287.66766967]\n",
            " [-280.76989293]\n",
            " [-282.1616424 ]\n",
            " [-277.95467541]\n",
            " [-278.82020217]\n",
            " [-283.54871219]\n",
            " [-278.17521543]\n",
            " [-280.3638498 ]\n",
            " [-277.90853396]\n",
            " [-278.72493943]\n",
            " [-279.83044835]\n",
            " [-280.79504089]\n",
            " [-278.613837  ]\n",
            " [-280.67720772]\n",
            " [-279.37066208]\n",
            " [-280.32443321]\n",
            " [-281.21546944]\n",
            " [-280.41303399]\n",
            " [-279.90098759]\n",
            " [-284.15946335]\n",
            " [-278.6856829 ]\n",
            " [-279.97111523]\n",
            " [-281.52264625]\n",
            " [-279.95561904]\n",
            " [-325.15311112]\n",
            " [-279.80083425]\n",
            " [-278.69929034]\n",
            " [-280.00913432]\n",
            " [-279.83303614]\n",
            " [-279.64843051]\n",
            " [-279.98715983]\n",
            " [-278.00575725]\n",
            " [-281.0789897 ]\n",
            " [-285.25083637]\n",
            " [-279.68896221]\n",
            " [-287.27737621]\n",
            " [-278.19938213]\n",
            " [-279.92842879]\n",
            " [-280.87226617]\n",
            " [-279.95442929]\n",
            " [-280.06960025]\n",
            " [-278.21548974]\n",
            " [-279.85114246]\n",
            " [-278.31814854]\n",
            " [-278.88084501]\n",
            " [-278.04932471]\n",
            " [-314.51243141]\n",
            " [-278.73572164]\n",
            " [-280.4735552 ]\n",
            " [-281.50059686]\n",
            " [-278.09186343]\n",
            " [-279.90662678]\n",
            " [-279.93435128]\n",
            " [-279.89356625]\n",
            " [-280.34834868]\n",
            " [-279.94726955]\n",
            " [-279.96412886]\n",
            " [-279.88799488]\n",
            " [-279.87782208]\n",
            " [-279.16715287]\n",
            " [-280.22816046]\n",
            " [-278.08394124]\n",
            " [-305.15289413]\n",
            " [-278.07034907]\n",
            " [-279.81054981]\n",
            " [-279.9431177 ]\n",
            " [-281.11890741]\n",
            " [-279.91485822]\n",
            " [-278.97496258]\n",
            " [-279.78955443]\n",
            " [-294.39430565]\n",
            " [-279.41146455]\n",
            " [-280.12046767]\n",
            " [-277.96308168]\n",
            " [-277.92399433]\n",
            " [-279.9735565 ]\n",
            " [-278.21690748]\n",
            " [-280.09561549]\n",
            " [-278.44224515]\n",
            " [-279.90924167]\n",
            " [-279.93302382]\n",
            " [-280.06991063]\n",
            " [-279.94134981]\n",
            " [-279.84250295]\n",
            " [-310.03712775]\n",
            " [-279.77203145]\n",
            " [-277.95656387]\n",
            " [-279.90131346]\n",
            " [-280.48417355]\n",
            " [-279.89582532]\n",
            " [-279.88356835]]\n"
          ]
        }
      ],
      "source": [
        "from math import e\n",
        "L_zero=np.log(probability_zero)\n",
        "L_one=np.log(probability_one)\n",
        "print(L_zero)\n",
        "print(L_one)"
      ]
    },
    {
      "cell_type": "markdown",
      "metadata": {},
      "source": [
        "##### b)Pdfs are gaussian, with non-diagonal covariance matrices"
      ]
    },
    {
      "cell_type": "code",
      "execution_count": 399,
      "metadata": {},
      "outputs": [],
      "source": [
        "def calculate_mean_covariance(dataset, class_index):\n",
        "  dataset_classes = dataset.groupby([class_index])\n",
        "  df_mean = dataset_classes.mean()\n",
        "  df_mean = df_mean.reset_index()\n",
        "\n",
        "  # calculate classes population\n",
        "  df = dataset.groupby([class_index], sort=False).size().reset_index(name='Count')\n",
        "  count_class = dict(zip(df[class_index],df['Count'] ))\n",
        "\n",
        "  # get classes name \n",
        "  mean = dict(zip(df_mean[class_index],np.array(df_mean[df_mean.columns.drop([class_index])])))\n",
        "  covariance = dict(enumerate(dataset[class_index].unique()))\n",
        "  covariance = { covariance[k]:k for k in covariance}\n",
        "\n",
        "  for index,item in dataset.iterrows():\n",
        "    # print(np.array(item.loc[0:class_index-1]) - mean[item[class_index]])\n",
        "    covariance[item[class_index]] += np.matmul(np.transpose(np.array(item.loc[0:class_index-1]) - mean[item[class_index]]), np.array(item.loc[0:class_index-1]) - mean[item[class_index]])\n",
        "  \n",
        "  # divide each class variance with the N\n",
        "  covariance = {key: covariance[key] / count_class.get(key, 0) for key in covariance.keys()}\n",
        "  \n",
        "  return covariance, mean\n"
      ]
    },
    {
      "cell_type": "code",
      "execution_count": 400,
      "metadata": {},
      "outputs": [
        {
          "data": {
            "text/plain": [
              "{1: array([1.39446425e+01, 1.01633297e+03, 4.60174468e+02, 3.11405881e+02,\n",
              "        1.91629021e+04, 5.25538622e+01, 1.38130519e-01, 1.19853698e+02]),\n",
              " 0: array([9.08719600e+00, 6.81997600e+02, 3.25624144e+02, 2.21269104e+02,\n",
              "        9.75479874e+03, 5.90176024e+01, 9.12731152e-02, 1.35863900e+02])}"
            ]
          },
          "execution_count": 400,
          "metadata": {},
          "output_type": "execute_result"
        }
      ],
      "source": [
        "covariance_pima, mean2_pima = calculate_mean_covariance(pima_indians_diabetes, 8)\n",
        "# print(variance_pima)\n",
        "# print(mean_pima)\n",
        "\n",
        "covariance_matrices_nondiagonal = {}\n",
        "for key in variance_pima:\n",
        "  covariance_matrices_nondiagonal[key] = variance_pima[key]\n",
        "\n",
        "covariance_matrices_nondiagonal"
      ]
    }
  ],
  "metadata": {
    "colab": {
      "collapsed_sections": [
        "wH2OfN4-rRx_",
        "4ODVSxYIrRyC",
        "j51horGyrRyE",
        "_Cl7Cn36rRyG"
      ],
      "name": "midTermProject.ipynb",
      "provenance": []
    },
    "interpreter": {
      "hash": "916dbcbb3f70747c44a77c7bcd40155683ae19c65e1c03b4aa3499c5328201f1"
    },
    "kernelspec": {
      "display_name": "Python 3 (ipykernel)",
      "language": "python",
      "name": "python3"
    },
    "language_info": {
      "codemirror_mode": {
        "name": "ipython",
        "version": 3
      },
      "file_extension": ".py",
      "mimetype": "text/x-python",
      "name": "python",
      "nbconvert_exporter": "python",
      "pygments_lexer": "ipython3",
      "version": "3.8.10"
    }
  },
  "nbformat": 4,
  "nbformat_minor": 0
}
