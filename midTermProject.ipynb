{
  "cells": [
    {
      "cell_type": "markdown",
      "metadata": {
        "id": "0Dheco9QrRxu"
      },
      "source": [
        "# Midterm Project"
      ]
    },
    {
      "cell_type": "markdown",
      "metadata": {},
      "source": [
        "## Problem 1"
      ]
    },
    {
      "cell_type": "code",
      "execution_count": 1,
      "metadata": {
        "id": "hvRLQPIerRx0"
      },
      "outputs": [],
      "source": [
        "import numpy as np\n",
        "import pandas as pd\n",
        "from pprint import pprint\n",
        "import matplotlib.pyplot as plt"
      ]
    },
    {
      "cell_type": "markdown",
      "metadata": {},
      "source": [
        "### Task 1"
      ]
    },
    {
      "cell_type": "code",
      "execution_count": 2,
      "metadata": {
        "id": "dO1E-g8CrRx2"
      },
      "outputs": [],
      "source": [
        "#define the model\n",
        "def polynomial(x, params):\n",
        "    # y_without_noise = Polynomial(parameters)\n",
        "    k = params[0] + params[1]*pow(x, 1) + params[2]*pow(x, 2) + params[3]*pow(x, 3) + params[4]*pow(x, 5)\n",
        "    # y = y_without_noise(x) + noise\n",
        "    return k\n",
        "    "
      ]
    },
    {
      "cell_type": "code",
      "execution_count": 3,
      "metadata": {
        "id": "gEoVsjO_rRx3"
      },
      "outputs": [],
      "source": [
        "#training parameters, number of samples, 20 equidistance points in [0,2]\n",
        "theta = [0.2, -1, 0.9, 0.7, - 0.2]\n",
        "samples = 20\n",
        "x = np.linspace(0, 2, samples)"
      ]
    },
    {
      "cell_type": "code",
      "execution_count": 4,
      "metadata": {
        "id": "hvS-D6jVrRx3"
      },
      "outputs": [],
      "source": [
        "#calculate the training set\n",
        "y =  polynomial(x, theta)\n",
        "# 0 is the mean of the normal distribution you are choosing from\n",
        "# 0.1 is the standard deviation of the normal distribution\n",
        "# 1 is the number of elements you get in array noise\n",
        "y = y + np.random.normal(0,np.sqrt(0.1),20) #add white Gaussian noise"
      ]
    },
    {
      "cell_type": "code",
      "execution_count": 5,
      "metadata": {
        "colab": {
          "base_uri": "https://localhost:8080/",
          "height": 282
        },
        "id": "nw8bONVqrRx5",
        "outputId": "4125ab73-058c-440e-fa31-471285fcded4"
      },
      "outputs": [
        {
          "data": {
            "text/plain": [
              "[<matplotlib.lines.Line2D at 0x7f7bd77656a0>]"
            ]
          },
          "execution_count": 5,
          "metadata": {},
          "output_type": "execute_result"
        },
        {
          "data": {
            "image/png": "[encoded data removed]",
            "text/plain": [
              "<Figure size 432x288 with 1 Axes>"
            ]
          },
          "metadata": {
            "needs_background": "light"
          },
          "output_type": "display_data"
        }
      ],
      "source": [
        "#plot results\n",
        "plt.plot(x, y, \"ko\", label=\"Data\")"
      ]
    },
    {
      "cell_type": "code",
      "execution_count": 6,
      "metadata": {
        "id": "Ol3PZmFVrRx6"
      },
      "outputs": [],
      "source": [
        "# create the matrices for least square method\n",
        "X = []\n",
        "Y = []\n",
        "for i in range(0,5):\n",
        "    X.append([sum(pow(x,i)), sum(pow(x,i+1)), sum(pow(x,i+2)), sum(pow(x,i+3)), sum(pow(x,i+5))])\n",
        "    Y.append([sum(pow(x,i)*y)])"
      ]
    },
    {
      "cell_type": "code",
      "execution_count": 7,
      "metadata": {
        "id": "Ozowh5rvrRx7"
      },
      "outputs": [],
      "source": [
        "#find the optimal parameters\n",
        "opt_coef = np.dot(np.linalg.inv(X), Y)"
      ]
    },
    {
      "cell_type": "code",
      "execution_count": 8,
      "metadata": {
        "colab": {
          "base_uri": "https://localhost:8080/"
        },
        "id": "XLVemhMErRx8",
        "outputId": "8fd9411b-cac9-49e6-af76-5f4e5c103356"
      },
      "outputs": [
        {
          "data": {
            "text/plain": [
              "array([[ 0.82825689],\n",
              "       [-6.31854373],\n",
              "       [ 9.66841219],\n",
              "       [-3.67178236],\n",
              "       [ 0.11851416]])"
            ]
          },
          "execution_count": 8,
          "metadata": {},
          "output_type": "execute_result"
        }
      ],
      "source": [
        "opt_coef"
      ]
    },
    {
      "cell_type": "code",
      "execution_count": 9,
      "metadata": {
        "colab": {
          "base_uri": "https://localhost:8080/",
          "height": 265
        },
        "id": "0tkSqSkhrRx9",
        "outputId": "35183389-2860-494f-b197-a69afe9e3d02"
      },
      "outputs": [
        {
          "data": {
            "image/png": "[encoded data removed]",
            "text/plain": [
              "<Figure size 432x288 with 1 Axes>"
            ]
          },
          "metadata": {
            "needs_background": "light"
          },
          "output_type": "display_data"
        }
      ],
      "source": [
        "#plot our results based on the optimal parameters\n",
        "y_pred = polynomial(x, opt_coef)\n",
        "plt.plot(x, y, 'bo')\n",
        "plt.plot(x, polynomial(x, opt_coef), 'k-')\n",
        "plt.show() "
      ]
    },
    {
      "cell_type": "code",
      "execution_count": 10,
      "metadata": {
        "colab": {
          "base_uri": "https://localhost:8080/"
        },
        "id": "HnXGcOxfrRx9",
        "outputId": "249a2ec2-f653-4538-acf2-91f29f31e5bf"
      },
      "outputs": [
        {
          "name": "stdout",
          "output_type": "stream",
          "text": [
            "0.10238828445660031\n"
          ]
        }
      ],
      "source": [
        "# Calculate Mean Square Error of y over the training set\n",
        "mse = (1/samples) * sum(pow(y - y_pred, 2))\n",
        "print(mse)"
      ]
    },
    {
      "cell_type": "code",
      "execution_count": 11,
      "metadata": {
        "id": "Ue637DR-rRx-",
        "outputId": "150f8cef-154c-4849-df8f-223342200022"
      },
      "outputs": [
        {
          "data": {
            "image/png": "[encoded data removed]",
            "text/plain": [
              "<Figure size 432x288 with 1 Axes>"
            ]
          },
          "metadata": {
            "needs_background": "light"
          },
          "output_type": "display_data"
        }
      ],
      "source": [
        "#create the test set based on the optimal parameters\n",
        "x_test = np.random.uniform(0, 2, size=(1000) )\n",
        "#x_test = np.linspace(0, 2, 1000)\n",
        "y_test_true = polynomial(x_test, theta)\n",
        "y_test_true = y_test_true + np.random.normal(0,np.sqrt(0.1),1000)\n",
        "y_test_pred = polynomial(x_test, opt_coef)\n",
        "\n",
        "plt.plot(x_test, y_test_true, 'bo')\n",
        "plt.plot(x_test, y_test_pred,'ro')\n",
        "plt.show()"
      ]
    },
    {
      "cell_type": "code",
      "execution_count": 12,
      "metadata": {
        "id": "QMQ2dDKfrRx-",
        "outputId": "5f8ecd18-360f-4d47-c19a-14b0b16bd543"
      },
      "outputs": [
        {
          "name": "stdout",
          "output_type": "stream",
          "text": [
            "0.14178697263255746\n"
          ]
        }
      ],
      "source": [
        "# calculate the mean square error over the test set of 1000 points\n",
        "mse_test = (1/1000) * sum(pow(y_test_true - y_test_pred, 2))\n",
        "print(mse_test)"
      ]
    },
    {
      "cell_type": "markdown",
      "metadata": {},
      "source": [
        "#### Noticing the MSE of the training set we deduct that the optimal parameters of the Least Square Method fits our data properly"
      ]
    },
    {
      "cell_type": "markdown",
      "metadata": {
        "id": "AUSn2DTcrRx-"
      },
      "source": [
        "### Task 2"
      ]
    },
    {
      "cell_type": "markdown",
      "metadata": {
        "id": "wH2OfN4-rRx_"
      },
      "source": [
        "#### Second Degree Polynomial"
      ]
    },
    {
      "cell_type": "code",
      "execution_count": 13,
      "metadata": {
        "id": "_KLfT98KrRx_"
      },
      "outputs": [],
      "source": [
        "#define the second degree polynomial \n",
        "def second_degree_pol_f(x, params):\n",
        "    k = params[0] + params[1]*x + params[2]*x**2\n",
        "    return k"
      ]
    },
    {
      "cell_type": "code",
      "execution_count": 14,
      "metadata": {
        "id": "LmDEXHjErRx_"
      },
      "outputs": [],
      "source": [
        "# create the matrices\n",
        "X2 = []\n",
        "Y2 = []\n",
        "for i in range(0,3):\n",
        "    X2.append([sum(pow(x,i)), sum(pow(x,i+1)), sum(pow(x,i+2))])\n",
        "    Y2.append([sum(pow(x,i)*y)])"
      ]
    },
    {
      "cell_type": "code",
      "execution_count": 15,
      "metadata": {
        "id": "9MBHF3sVrRyA",
        "outputId": "fa732a64-042f-48c4-fa79-fa0dc1044ee9"
      },
      "outputs": [
        {
          "name": "stdout",
          "output_type": "stream",
          "text": [
            "[[-0.05445383]\n",
            " [ 0.22360787]\n",
            " [ 0.39489959]]\n"
          ]
        }
      ],
      "source": [
        "#calculate optimal parameters\n",
        "popt2 = np.matmul(np.linalg.inv(X2), Y2)\n",
        "\n",
        "print(popt2)"
      ]
    },
    {
      "cell_type": "code",
      "execution_count": 16,
      "metadata": {
        "id": "di5w_niGrRyA",
        "outputId": "83800e0d-7f23-4254-c322-d7893132d6e6"
      },
      "outputs": [
        {
          "data": {
            "text/plain": [
              "[]"
            ]
          },
          "execution_count": 16,
          "metadata": {},
          "output_type": "execute_result"
        },
        {
          "data": {
            "image/png": "[encoded data removed]",
            "text/plain": [
              "<Figure size 432x288 with 1 Axes>"
            ]
          },
          "metadata": {
            "needs_background": "light"
          },
          "output_type": "display_data"
        }
      ],
      "source": [
        "#plot our results\n",
        "plt.scatter(x, y)\n",
        "plt.plot(x, second_degree_pol_f(x, popt2))\n",
        "plt.plot()"
      ]
    },
    {
      "cell_type": "code",
      "execution_count": 17,
      "metadata": {
        "id": "LqaXigiCrRyA"
      },
      "outputs": [],
      "source": [
        "#perform 100 exeriments using different noise samples\n",
        "results_second_polynomial = []\n",
        "for i in range(0, 100):\n",
        "    y = second_degree_pol_f(x, popt2) + np.random.normal(0,np.sqrt(0.1), 20)\n",
        "    results_second_polynomial.append(y)\n",
        "    "
      ]
    },
    {
      "cell_type": "code",
      "execution_count": 18,
      "metadata": {
        "id": "NMWuEg9vrRyB"
      },
      "outputs": [],
      "source": [
        "df2 = pd.DataFrame(results_second_polynomial)"
      ]
    },
    {
      "cell_type": "code",
      "execution_count": 19,
      "metadata": {
        "id": "A-6opCskrRyB"
      },
      "outputs": [],
      "source": [
        "# calculate the mean value of each column\n",
        "mean_second_degree = []\n",
        "\n",
        "# calculate the variance value of each column\n",
        "variance_second_degree = []\n",
        "\n",
        "for (columnName, columnData) in df2.iteritems():\n",
        "    mean = sum(columnData)/100\n",
        "    mean_second_degree.append(mean)\n",
        "    variance_second_degree.append(sum(pow(columnData - mean, 2))/100)\n",
        "    "
      ]
    },
    {
      "cell_type": "code",
      "execution_count": 20,
      "metadata": {
        "id": "hH51GclgrRyB",
        "outputId": "ae056e86-8782-480a-aa11-8fd8802fb277"
      },
      "outputs": [
        {
          "data": {
            "image/png": "[encoded data removed]",
            "text/plain": [
              "<Figure size 432x288 with 1 Axes>"
            ]
          },
          "metadata": {
            "needs_background": "light"
          },
          "output_type": "display_data"
        }
      ],
      "source": [
        "plt.scatter(x, mean_second_degree, color = 'hotpink')\n",
        "plt.scatter(x, variance_second_degree, color = 'black')\n",
        "plt.plot(x, second_degree_pol_f(x, popt2))\n",
        "plt.show()"
      ]
    },
    {
      "cell_type": "markdown",
      "metadata": {
        "id": "4ODVSxYIrRyC"
      },
      "source": [
        "#### Tenth Degree Polynomial"
      ]
    },
    {
      "cell_type": "code",
      "execution_count": 21,
      "metadata": {
        "id": "0fhAVDS9rRyC"
      },
      "outputs": [],
      "source": [
        "#defining the 10th degree polynomial\n",
        "def tenth_degree_pol_f(x, params):\n",
        "    k = params[0] + params[1]*x + params[2]*x**2 + params[3]*x**3 + params[4]*x**4 + params[5]*x**5 + params[6]*x**6 + params[7]*x**7 + params[8]*x**8 + params[9]*x**9 + params[10]*x**10\n",
        "    return k"
      ]
    },
    {
      "cell_type": "code",
      "execution_count": 22,
      "metadata": {
        "id": "wlcu0FBdrRyC"
      },
      "outputs": [],
      "source": [
        "# create the matrices\n",
        "X10 = []\n",
        "Y10 = []\n",
        "for i in range(0,11):\n",
        "    X10.append([sum(pow(x,i)), sum(pow(x,i+1)), sum(pow(x,i+2)), sum(pow(x,i+3)), sum(pow(x,i+4)), sum(pow(x,i+5)), sum(pow(x,i+6)), sum(pow(x,i+7)), sum(pow(x,i+8)), sum(pow(x,i+9)), sum(pow(x,i+10))])\n",
        "    Y10.append([sum(pow(x,i)*y)])"
      ]
    },
    {
      "cell_type": "code",
      "execution_count": 23,
      "metadata": {
        "id": "_DwPE7OerRyD",
        "outputId": "634c3bd9-6e0e-4334-912f-cb00f1538fd4"
      },
      "outputs": [
        {
          "name": "stdout",
          "output_type": "stream",
          "text": [
            "[[ 2.28856018e-01]\n",
            " [ 1.26694520e+01]\n",
            " [-1.66420275e+02]\n",
            " [ 7.00209019e+02]\n",
            " [-1.35878680e+03]\n",
            " [ 1.25351736e+03]\n",
            " [-3.07201874e+02]\n",
            " [-4.01082275e+02]\n",
            " [ 3.80900391e+02]\n",
            " [-1.30067822e+02]\n",
            " [ 1.63588550e+01]]\n"
          ]
        }
      ],
      "source": [
        "#get the optimal parameters\n",
        "popt10 = np.matmul(np.linalg.inv(X10), Y10)\n",
        "\n",
        "print(popt10)"
      ]
    },
    {
      "cell_type": "code",
      "execution_count": 24,
      "metadata": {
        "id": "mY1m6ud0rRyD",
        "outputId": "4476cf95-257c-47e2-99a7-fe5f38f9bf0b"
      },
      "outputs": [
        {
          "data": {
            "text/plain": [
              "[]"
            ]
          },
          "execution_count": 24,
          "metadata": {},
          "output_type": "execute_result"
        },
        {
          "data": {
            "image/png": "[encoded data removed]",
            "text/plain": [
              "<Figure size 432x288 with 1 Axes>"
            ]
          },
          "metadata": {
            "needs_background": "light"
          },
          "output_type": "display_data"
        }
      ],
      "source": [
        "plt.scatter(x, y)\n",
        "plt.plot(x, tenth_degree_pol_f(x, popt10))\n",
        "plt.plot()"
      ]
    },
    {
      "cell_type": "code",
      "execution_count": 25,
      "metadata": {
        "id": "44hMfDlxrRyD"
      },
      "outputs": [],
      "source": [
        "#perform 100 experiments using different noise samples\n",
        "results_tenth_polynomial = []\n",
        "for i in range(0, 100):\n",
        "    k = tenth_degree_pol_f(x, popt10) + np.random.normal(0,np.sqrt(0.1), 20)\n",
        "    results_tenth_polynomial.append(k)\n",
        "    "
      ]
    },
    {
      "cell_type": "code",
      "execution_count": 26,
      "metadata": {
        "id": "S4BzCo-LrRyD"
      },
      "outputs": [],
      "source": [
        "df10 = pd.DataFrame(results_tenth_polynomial)"
      ]
    },
    {
      "cell_type": "code",
      "execution_count": 27,
      "metadata": {
        "id": "9gAg4xafrRyE"
      },
      "outputs": [],
      "source": [
        "# calculate the mean value of each column\n",
        "mean_tenth_degree = []\n",
        "# calculate the variance value of each column\n",
        "variance_tenth_degree = []\n",
        "\n",
        "for (columnName, columnData) in df10.iteritems():\n",
        "    mean = sum(columnData)/100\n",
        "    mean_tenth_degree.append(mean)\n",
        "    variance_tenth_degree.append(sum(pow(x - mean, 2))/100)"
      ]
    },
    {
      "cell_type": "code",
      "execution_count": 28,
      "metadata": {
        "id": "VEXNC_9DrRyE",
        "outputId": "251a74ae-8566-486d-e58c-c20edfb17f2d"
      },
      "outputs": [
        {
          "data": {
            "image/png": "[encoded data removed]",
            "text/plain": [
              "<Figure size 432x288 with 1 Axes>"
            ]
          },
          "metadata": {
            "needs_background": "light"
          },
          "output_type": "display_data"
        }
      ],
      "source": [
        "plt.scatter(x, mean_tenth_degree, color = 'hotpink')\n",
        "plt.scatter(x, variance_tenth_degree, color = 'black')\n",
        "plt.plot(x, tenth_degree_pol_f(x, popt10))\n",
        "plt.xlabel(\"X\")\n",
        "plt.ylabel(\"Y\")\n",
        "plt.title(\"Tenth degree Polynomial\")\n",
        "plt.show()"
      ]
    },
    {
      "cell_type": "markdown",
      "metadata": {
        "id": "j51horGyrRyE"
      },
      "source": [
        " Comparing our results between the 2nd and the 10th degree polynomial we observe that we have higher variance in the later. This was expected, because having a high degree polynomial overfits our data (lower bias). In contrast, the second degree polynomial has smaller variance and thus higher bias. This is known as the bias - variance dilemma, where smaller degree polynomials do not fit the data properly(underfit), having higher mean square error, whereas higher degree polynomials overfit our data and make them less flexible with the general data."
      ]
    },
    {
      "cell_type": "markdown",
      "metadata": {
        "id": "euVWgUvbrRyF"
      },
      "source": [
        "### Task 3"
      ]
    },
    {
      "cell_type": "code",
      "execution_count": 29,
      "metadata": {},
      "outputs": [],
      "source": [
        "#create x matrix with the corresponding powers\n",
        "x_matrix = []\n",
        "\n",
        "for i in x:\n",
        "    x_matrix.append([1, i, pow(i,2), pow(i,3), pow(i,5)])\n",
        "\n",
        "x_matrix = np.array(x_matrix)"
      ]
    },
    {
      "cell_type": "code",
      "execution_count": 30,
      "metadata": {
        "id": "ZpyoQFhWrRyF"
      },
      "outputs": [],
      "source": [
        "#Set the different values of alpha to be tested\n",
        "lamda = [1e-10, 1e-8, 1e-4, 1e-3,1e-2, 1, 3, 5, 7, 10, 15]"
      ]
    },
    {
      "cell_type": "code",
      "execution_count": 31,
      "metadata": {
        "id": "Y38UMW1trRyF"
      },
      "outputs": [],
      "source": [
        "#apply ridge regression method \n",
        "opt_coef_ridge = []\n",
        "for l in lamda:\n",
        "    xtx = np.matmul(np.matrix.transpose(x_matrix), x_matrix)\n",
        "    aI = l* np.identity(5)\n",
        "    a_term = np.add(xtx, aI)\n",
        "    b_term = np.matmul(np.matrix.transpose(x_matrix), y)\n",
        "    opt_coef_ridge.append(np.matmul(np.linalg.inv(a_term), b_term))"
      ]
    },
    {
      "cell_type": "code",
      "execution_count": 32,
      "metadata": {
        "id": "Fk1NsQ6nrRyF"
      },
      "outputs": [],
      "source": [
        "#calculate MSE for each lambda \n",
        "mse_ridge = []\n",
        "for coef in opt_coef_ridge:\n",
        "    y_test_ridge = polynomial(x, coef) + np.random.normal(0,np.sqrt(0.1), 20)\n",
        "    error = (1/20) * sum(pow(y - y_test_ridge, 2))\n",
        "    mse_ridge.append(error)\n",
        "    "
      ]
    },
    {
      "cell_type": "markdown",
      "metadata": {
        "id": "_Cl7Cn36rRyG"
      },
      "source": [
        "#### we observe that for lambda values smaller than 1, we get smaller mse, so better results. As we increase the lambda, the MSE is increased respectively. We can also observe this, from the following plot"
      ]
    },
    {
      "cell_type": "code",
      "execution_count": 33,
      "metadata": {
        "id": "9Hohaj8HrRyG",
        "outputId": "c11469e9-46f0-4cc7-e0ed-7fc71d7f1f85"
      },
      "outputs": [
        {
          "data": {
            "text/plain": [
              "[<matplotlib.lines.Line2D at 0x7f7bd7363d00>]"
            ]
          },
          "execution_count": 33,
          "metadata": {},
          "output_type": "execute_result"
        },
        {
          "data": {
            "image/png": "[encoded data removed]",
            "text/plain": [
              "<Figure size 432x288 with 1 Axes>"
            ]
          },
          "metadata": {
            "needs_background": "light"
          },
          "output_type": "display_data"
        }
      ],
      "source": [
        "# small lambda -> ~1\n",
        "plt.plot(lamda, mse_ridge)"
      ]
    },
    {
      "cell_type": "markdown",
      "metadata": {
        "id": "bpw9WTcWrRyG"
      },
      "source": [
        "### Task 4"
      ]
    },
    {
      "cell_type": "code",
      "execution_count": 34,
      "metadata": {
        "id": "MNHdjxj4rRyG"
      },
      "outputs": [],
      "source": [
        "#Bayes Rule\n",
        "# P(θ|x) = P(x|θ)*P(θ) / P(x)"
      ]
    },
    {
      "cell_type": "code",
      "execution_count": 35,
      "metadata": {},
      "outputs": [],
      "source": [
        "# generate 20 random samples for Bayesian Inference \n",
        "x_random_bayes = np.random.uniform(0, 2, size=(samples))\n",
        "x_random_bayes_matrix = []\n",
        "\n",
        "for i in x_random_bayes:\n",
        "  x_random_bayes_matrix.append([1, i, pow(i,2), pow(i,3), pow(i,5)])\n",
        "\n",
        "x_random_bayes_matrix = np.array(x_random_bayes_matrix)"
      ]
    },
    {
      "cell_type": "code",
      "execution_count": 36,
      "metadata": {
        "id": "ApmDEdjxrRyH"
      },
      "outputs": [],
      "source": [
        "# calculate Bayesian Inference for the 20 samples based on our prior knowledge -> coefficients from LS \n",
        "sn2 = [0.05, 0.15] # it's square\n",
        "sth2 = 0.1\n",
        "\n",
        "y_pred_bayes = [] # prediction of each y\n",
        "var_bayes = [] # variance of each y\n",
        "\n",
        "for sn in sn2:\n",
        "    s_theta_y = np.linalg.inv(((1/sth2)*np.identity(5) + (1/sn)*np.matmul(np.transpose(x_matrix),x_matrix)))\n",
        "    a_param = 1/sn*s_theta_y\n",
        "    b_param = np.matmul(a_param, np.transpose(x_matrix))\n",
        "    c_param = np.matmul(x_matrix, opt_coef)\n",
        "    d_param = np.reshape(y, (20,1)) - c_param\n",
        "    e_param = np.matmul(b_param, d_param)\n",
        "    m_theta_y = np.add(opt_coef, e_param)\n",
        "\n",
        "    arr_bayes = []\n",
        "    arr_var_bayes = []\n",
        "    for idx, row in enumerate(x_random_bayes_matrix):\n",
        "        m_y = np.matmul(row, m_theta_y)\n",
        "        arr_bayes.append(m_y[0])\n",
        "\n",
        "        s_theta_y_var = np.linalg.inv((sn*np.identity(5) + sth2*np.matmul(np.transpose(x_matrix),x_matrix)))\n",
        "        f_param = sn*sth2*row\n",
        "        g_param = np.matmul(f_param, s_theta_y_var)\n",
        "        h_param = np.matmul(g_param, np.transpose(row))\n",
        "        s_y = sn + h_param\n",
        "        arr_var_bayes.append(s_y)\n",
        "\n",
        "    y_pred_bayes.append(arr_bayes)\n",
        "    var_bayes.append(arr_var_bayes)\n",
        "\n"
      ]
    },
    {
      "cell_type": "code",
      "execution_count": 37,
      "metadata": {},
      "outputs": [
        {
          "data": {
            "image/png": "[encoded data removed]",
            "text/plain": [
              "<Figure size 432x288 with 1 Axes>"
            ]
          },
          "metadata": {
            "needs_background": "light"
          },
          "output_type": "display_data"
        }
      ],
      "source": [
        "# for sn=0.05\n",
        "plt.plot(x_random_bayes, y_pred_bayes[0], 'bo')\n",
        "plt.plot(x_random_bayes, polynomial(x_random_bayes, opt_coef), 'ko')\n",
        "plt.errorbar(x_random_bayes, y_pred_bayes[0], yerr=var_bayes[0], fmt='r+')\n",
        "plt.show()\n"
      ]
    },
    {
      "cell_type": "code",
      "execution_count": 38,
      "metadata": {},
      "outputs": [
        {
          "data": {
            "image/png": "[encoded data removed]",
            "text/plain": [
              "<Figure size 432x288 with 1 Axes>"
            ]
          },
          "metadata": {
            "needs_background": "light"
          },
          "output_type": "display_data"
        }
      ],
      "source": [
        "# for sn=0.15\n",
        "plt.plot(x_random_bayes, y_pred_bayes[1], 'bo')\n",
        "plt.plot(x_random_bayes, polynomial(x_random_bayes, opt_coef), 'ko')\n",
        "plt.errorbar(x_random_bayes, y_pred_bayes[1], yerr=var_bayes[1], fmt='r+')\n",
        "plt.show()"
      ]
    },
    {
      "cell_type": "markdown",
      "metadata": {},
      "source": [
        "#### Observing the plots above, we can understand that as higher as the variance of noise is, we have bigger uncertainty - error. So, we prefer a smaller variance of noise."
      ]
    },
    {
      "cell_type": "markdown",
      "metadata": {},
      "source": [
        "### Task 5"
      ]
    },
    {
      "cell_type": "code",
      "execution_count": 39,
      "metadata": {},
      "outputs": [],
      "source": [
        "# declare our new parameters\n",
        "new_theta = [-10.54, 0.465, 0.0087, -0.093, -0.004]\n",
        "new_theta = np.reshape(new_theta, (1,5))\n",
        "new_theta = np.transpose(new_theta)\n",
        "\n",
        "sth2_new = [0.1, 2]"
      ]
    },
    {
      "cell_type": "code",
      "execution_count": 40,
      "metadata": {},
      "outputs": [],
      "source": [
        "# Calculate Bayesian Inference for 20 samples base on our previous knowledge\n",
        "y_pred_bayes_20 = []\n",
        "var_bayes_20 = []\n",
        "\n",
        "for sth in sth2_new :\n",
        "    s_theta_y = np.linalg.inv(((1/sth)*np.identity(5) + (1/sn2[0])*np.matmul(np.transpose(x_matrix),x_matrix)))\n",
        "    a_param = 1/sn2[0]*s_theta_y\n",
        "    b_param = np.matmul(a_param, np.transpose(x_matrix))\n",
        "    c_param = np.matmul(x_matrix, new_theta)\n",
        "    d_param = np.reshape(y, (20,1)) - c_param\n",
        "    e_param = np.matmul(b_param, d_param)\n",
        "    m_theta_y = np.add(new_theta, e_param)\n",
        "\n",
        "    arr_bayes =[]\n",
        "    arr_var_bayes =[]\n",
        "    # for 20\n",
        "    for idx, row in enumerate(x_random_bayes_matrix):\n",
        "        m_y = np.matmul(row, m_theta_y)\n",
        "        arr_bayes.append(m_y[0])\n",
        "\n",
        "        s_theta_y_var = np.linalg.inv((sn2[0]*np.identity(5) + sth*np.matmul(np.transpose(x_matrix),x_matrix)))\n",
        "        f_param = sn2[0]*sth*row\n",
        "        g_param = np.matmul(f_param, s_theta_y_var)\n",
        "        h_param = np.matmul(g_param, np.transpose(row))\n",
        "        s_y = sn2[0] + h_param\n",
        "        arr_var_bayes.append(s_y)\n",
        "\n",
        "\n",
        "    y_pred_bayes_20.append(arr_bayes)    \n",
        "    var_bayes_20.append(arr_var_bayes)\n"
      ]
    },
    {
      "cell_type": "code",
      "execution_count": 41,
      "metadata": {},
      "outputs": [
        {
          "data": {
            "image/png": "[encoded data removed]",
            "text/plain": [
              "<Figure size 432x288 with 1 Axes>"
            ]
          },
          "metadata": {
            "needs_background": "light"
          },
          "output_type": "display_data"
        }
      ],
      "source": [
        "# for sth=0.1\n",
        "plt.plot(x_random_bayes, y_pred_bayes_20[0], 'bo')\n",
        "plt.plot(x_random_bayes, polynomial(x_random_bayes, opt_coef), 'ko')\n",
        "plt.errorbar(x_random_bayes, y_pred_bayes_20[0], yerr=var_bayes_20[0], fmt='r+')\n",
        "plt.show()"
      ]
    },
    {
      "cell_type": "code",
      "execution_count": 42,
      "metadata": {},
      "outputs": [
        {
          "data": {
            "image/png": "[encoded data removed]",
            "text/plain": [
              "<Figure size 432x288 with 1 Axes>"
            ]
          },
          "metadata": {
            "needs_background": "light"
          },
          "output_type": "display_data"
        }
      ],
      "source": [
        "# for sn=2\n",
        "plt.plot(x_random_bayes, y_pred_bayes_20[1], 'bo')\n",
        "plt.plot(x_random_bayes, polynomial(x_random_bayes, opt_coef), 'ko')\n",
        "plt.errorbar(x_random_bayes, y_pred_bayes_20[1], yerr=var_bayes_20[1], fmt='r+')\n",
        "plt.show()"
      ]
    },
    {
      "cell_type": "markdown",
      "metadata": {},
      "source": [
        "### For 500 samples"
      ]
    },
    {
      "cell_type": "code",
      "execution_count": 43,
      "metadata": {},
      "outputs": [],
      "source": [
        "# repeat the process for 500 samples\n",
        "x500 = np.linspace(0, 2, 500)\n",
        "y_500 = polynomial(x500, opt_coef)"
      ]
    },
    {
      "cell_type": "code",
      "execution_count": 44,
      "metadata": {},
      "outputs": [],
      "source": [
        "x_matrix_500 = []\n",
        "\n",
        "for i in x500:\n",
        "    x_matrix_500.append([1, i, pow(i,2), pow(i,3), pow(i,5)])\n",
        "\n",
        "x_matrix_500 = np.array(x_matrix_500)"
      ]
    },
    {
      "cell_type": "code",
      "execution_count": 45,
      "metadata": {},
      "outputs": [],
      "source": [
        "x_random_bayes_500 = np.random.uniform(0, 2, size=(500))\n",
        "x_random_bayes_matrix_500 = []\n",
        "\n",
        "for i in x_random_bayes_500:\n",
        "  x_random_bayes_matrix_500.append([1, i, pow(i,2), pow(i,3), pow(i,5)])\n",
        "\n",
        "x_random_bayes_matrix_500 = np.array(x_random_bayes_matrix_500)"
      ]
    },
    {
      "cell_type": "code",
      "execution_count": 46,
      "metadata": {},
      "outputs": [],
      "source": [
        "y_pred_bayes_500 = []\n",
        "var_bayes_500 = []\n",
        "\n",
        "for sth in sth2_new :\n",
        "    s_theta_y = np.linalg.inv(((1/sth)*np.identity(5) + (1/sn2[0])*np.matmul(np.transpose(x_matrix_500),x_matrix_500)))\n",
        "    a_param = 1/sn2[0]*s_theta_y\n",
        "    b_param = np.matmul(a_param, np.transpose(x_matrix_500))\n",
        "    c_param = np.matmul(x_matrix_500, new_theta)\n",
        "    d_param = np.reshape(y_500, (500,1)) - c_param\n",
        "    e_param = np.matmul(b_param, d_param)\n",
        "    m_theta_y = np.add(new_theta, e_param)\n",
        "\n",
        "    arr_bayes =[]\n",
        "    arr_var_bayes =[]\n",
        "    # for 500\n",
        "    for idx, row in enumerate(x_random_bayes_matrix):\n",
        "        m_y = np.matmul(row, m_theta_y)\n",
        "        arr_bayes.append(m_y[0])\n",
        "\n",
        "        s_theta_y_var = np.linalg.inv((sn2[0]*np.identity(5) + sth*np.matmul(np.transpose(x_matrix),x_matrix)))\n",
        "        f_param = sn2[0]*sth*row\n",
        "        g_param = np.matmul(f_param, s_theta_y_var)\n",
        "        h_param = np.matmul(g_param, np.transpose(row))\n",
        "        s_y = sn2[0] + h_param\n",
        "        arr_var_bayes.append(s_y)\n",
        "\n",
        "\n",
        "    y_pred_bayes_500.append(arr_bayes)    \n",
        "    var_bayes_500.append(arr_var_bayes)\n"
      ]
    },
    {
      "cell_type": "code",
      "execution_count": 47,
      "metadata": {},
      "outputs": [
        {
          "data": {
            "image/png": "[encoded data removed]",
            "text/plain": [
              "<Figure size 432x288 with 1 Axes>"
            ]
          },
          "metadata": {
            "needs_background": "light"
          },
          "output_type": "display_data"
        }
      ],
      "source": [
        "# for sth=0.1\n",
        "plt.plot(x_random_bayes, y_pred_bayes_500[0], 'bo')\n",
        "plt.plot(x_random_bayes, polynomial(x_random_bayes, opt_coef), 'ko')\n",
        "plt.errorbar(x_random_bayes, y_pred_bayes_500[0], yerr=var_bayes_500[0], fmt='r+')\n",
        "plt.show()"
      ]
    },
    {
      "cell_type": "code",
      "execution_count": 48,
      "metadata": {},
      "outputs": [
        {
          "data": {
            "image/png": "[encoded data removed]",
            "text/plain": [
              "<Figure size 432x288 with 1 Axes>"
            ]
          },
          "metadata": {
            "needs_background": "light"
          },
          "output_type": "display_data"
        }
      ],
      "source": [
        "# for sth=2\n",
        "plt.plot(x_random_bayes, y_pred_bayes_500[1], 'bo')\n",
        "plt.plot(x_random_bayes, polynomial(x_random_bayes, opt_coef), 'ko')\n",
        "plt.errorbar(x_random_bayes, y_pred_bayes_500[1], yerr=var_bayes_500[1], fmt='r+')\n",
        "plt.show()"
      ]
    },
    {
      "cell_type": "markdown",
      "metadata": {},
      "source": [
        "#### For bigger s_theta we noticed that the prediction is more accurate. This makes sense, because we don't restrict so much our theta around the mean value of theta_0.\n",
        "\n",
        "#### At the same time, having a bigger sample, we can have our data fit better to our model. Better prediction.\n"
      ]
    },
    {
      "cell_type": "markdown",
      "metadata": {},
      "source": [
        "### Task 6"
      ]
    },
    {
      "cell_type": "code",
      "execution_count": 49,
      "metadata": {},
      "outputs": [],
      "source": [
        "# define params for Expectation Maximization method\n",
        "exp_max_n = 500\n",
        "a_em = 1 #s_theta_- 2\n",
        "b_em = 1 #s_n_- 2\n",
        "y_500_noise = y_500 + np.random.normal(0,np.sqrt(0.05),500) # new training set"
      ]
    },
    {
      "cell_type": "code",
      "execution_count": 50,
      "metadata": {},
      "outputs": [],
      "source": [
        "# repeat Expectation Maximization method until b(j) and b(j+1) converge  \n",
        "for i in range(0,50):\n",
        "  s_theta_y = np.linalg.inv((a_em*np.identity(5) + b_em*np.matmul(np.transpose(x_matrix_500),x_matrix_500)))\n",
        "  a_param = b_em*s_theta_y\n",
        "  b_param = np.matmul(a_param, np.transpose(x_matrix_500))\n",
        "  m_theta_y = np.matmul(b_param, y_500_noise)\n",
        "\n",
        "  norm_A = pow(np.linalg.norm(m_theta_y), 2)\n",
        "  A = np.add(norm_A, np.trace(s_theta_y))\n",
        "\n",
        "  c_param = np.matmul(x_matrix_500, m_theta_y)\n",
        "  d_param = np.subtract(y_500_noise, c_param)\n",
        "  norm_B = pow(np.linalg.norm(d_param), 2)\n",
        "  e_param = np.matmul(x_matrix_500, s_theta_y)\n",
        "  f_param = np.matmul(e_param, np.transpose(x_matrix_500))\n",
        "  B = np.add(norm_B, np.trace(f_param))\n",
        "\n",
        "  K = 5 # number of dimension in coefficient\n",
        "  Q = K/2*np.log(a_em) + 250*np.log(b_em) + (a_em/2)*A - (b_em/2)*B - ((250 + (K/2))*np.log(2*np.pi))\n",
        "  \n",
        "  \n",
        "  a_new = K/A\n",
        "  b_new = exp_max_n/B\n",
        "\n",
        "  if(abs(b_em - b_new) < 0.0001) :\n",
        "      break\n",
        "\n",
        "  b_em = b_new \n",
        "  a_em = a_new "
      ]
    },
    {
      "cell_type": "code",
      "execution_count": 51,
      "metadata": {},
      "outputs": [],
      "source": [
        "# test our results in a new random sample, consisting of 20 random points in interval [0,2]\n",
        "s_theta_y = np.linalg.inv((a_em*np.identity(5) + b_em*np.matmul(np.transpose(x_matrix_500),x_matrix_500)))\n",
        "a_param = b_em*s_theta_y\n",
        "b_param = np.matmul(a_param, np.transpose(x_matrix_500))\n",
        "c_param = np.matmul(x_matrix_500, opt_coef)\n",
        "d_param = np.reshape(y_500_noise, (500,1)) - c_param\n",
        "e_param = np.matmul(b_param, d_param)\n",
        "m_theta_y = np.add(opt_coef, e_param)\n",
        "\n",
        "arr_bayes_em =[]\n",
        "arr_var_bayes_em =[]\n",
        "# for 500\n",
        "for idx, row in enumerate(x_random_bayes_matrix):\n",
        "    m_y = np.matmul(row, m_theta_y)\n",
        "    arr_bayes_em.append(m_y[0])\n",
        "\n",
        "    s_theta_y_var = np.linalg.inv(((1/b_em)*np.identity(5) + (1/a_em)*np.matmul(np.transpose(x_matrix),x_matrix)))\n",
        "    f_param = (1/b_em)*(1/a_em)*row\n",
        "    g_param = np.matmul(f_param, s_theta_y_var)\n",
        "    h_param = np.matmul(g_param, np.transpose(row))\n",
        "    s_y = sn2[0] + h_param\n",
        "    arr_var_bayes_em.append(s_y)"
      ]
    },
    {
      "cell_type": "code",
      "execution_count": 52,
      "metadata": {},
      "outputs": [
        {
          "data": {
            "image/png": "[encoded data removed]",
            "text/plain": [
              "<Figure size 432x288 with 1 Axes>"
            ]
          },
          "metadata": {
            "needs_background": "light"
          },
          "output_type": "display_data"
        }
      ],
      "source": [
        "plt.plot(x_random_bayes, arr_bayes_em, 'bo')\n",
        "plt.plot(x_random_bayes, polynomial(x_random_bayes, opt_coef), 'ko')\n",
        "plt.errorbar(x_random_bayes, arr_bayes_em, yerr=arr_var_bayes_em, fmt='r+')\n",
        "plt.show()"
      ]
    },
    {
      "cell_type": "markdown",
      "metadata": {},
      "source": [
        "#### Observing our results, we notice that Expectation Maximization method managed to predict our initial model in 4 iterations. The outcome fits very well our test set and not with much error. "
      ]
    },
    {
      "cell_type": "markdown",
      "metadata": {
        "id": "_Amw0W5IrkUm"
      },
      "source": [
        "## Problem 2"
      ]
    },
    {
      "cell_type": "markdown",
      "metadata": {},
      "source": [
        "### Task 1"
      ]
    },
    {
      "cell_type": "code",
      "execution_count": 53,
      "metadata": {},
      "outputs": [],
      "source": [
        "from sklearn.model_selection import train_test_split\n",
        "from scipy.spatial import distance"
      ]
    },
    {
      "cell_type": "code",
      "execution_count": 54,
      "metadata": {},
      "outputs": [],
      "source": [
        "def calculate_classification_knn(X_train, X_test, y_train, y_test):\n",
        "  k_nn = [3,5,8,10,12,15,20, 30]\n",
        "\n",
        "  test_size = X_test.shape[0]\n",
        "  \n",
        "  for k in k_nn:\n",
        "    success_categorization = 0\n",
        "    for index1,plant in enumerate(X_test):\n",
        "      distance_from_other_plants = []\n",
        "      test_class = y_test.index[index1]\n",
        "      category = {}\n",
        "\n",
        "      for index2,train_plant in enumerate(X_train):\n",
        "          train_class = y_train.index[index2]\n",
        "          distance_from_other_plants.append([distance.euclidean(train_plant, plant), y_test[test_class], y_train[train_class]])\n",
        "      \n",
        "      sorted_dist = np.array(sorted(distance_from_other_plants, key=lambda x:x[0]))\n",
        "      nearest_classes = sorted_dist[0:k,]\n",
        "\n",
        "      for item in nearest_classes:\n",
        "        if item[2] in category.keys():\n",
        "          category[item[2]] += 1\n",
        "        else :\n",
        "          category[item[2]] = 1\n",
        "\n",
        "\n",
        "      if y_test[test_class] == max(category, key=category.get):\n",
        "        success_categorization += 1\n",
        "\n",
        "    print(\"For k neighbors: \" + str(k))\n",
        "    print(\"success class \" + str((round(success_categorization/test_size, 2))*100) + \"%\")  "
      ]
    },
    {
      "cell_type": "markdown",
      "metadata": {},
      "source": [
        "#### IRIS Results\n",
        "We split our data in 60% train and 40% test data\n",
        "\n",
        "* We also tried different percentages of data split (80% train - 20% test / 60% train - 40% test), where we noticed that in lower train dataset size the k_nn needs more neighbors to classify correctly the test set, whereas in higher dataset size (ex.80%) the k_nn classifies the train dataset correclty with fewer k_nn\n",
        "* For 60%-40% we noticed that the optimal k is among 10-12, where lower or higher ks reduce the accuracy of the classification\n",
        "* For 70%-30% we noticed that the optimal k is 3 or higher  \n",
        "* For 80%-20% we noticed that the optimal k is 8 or higher  "
      ]
    },
    {
      "cell_type": "code",
      "execution_count": 55,
      "metadata": {},
      "outputs": [],
      "source": [
        "# IRIS Dataset\n",
        "iris_plants = pd.read_csv(\"iris.data\", header=None, delimiter=\",\")\n",
        "iris_plants_array = np.array(iris_plants)\n",
        "\n",
        "X_train_iris, X_test_iris, y_train_iris, y_test_iris = train_test_split(iris_plants_array[:,0:4], iris_plants[4], test_size=0.4, random_state=0)"
      ]
    },
    {
      "cell_type": "code",
      "execution_count": 56,
      "metadata": {},
      "outputs": [
        {
          "name": "stdout",
          "output_type": "stream",
          "text": [
            "For k neighbors: 3\n",
            "success class 93.0%\n",
            "For k neighbors: 5\n",
            "success class 95.0%\n",
            "For k neighbors: 8\n",
            "success class 93.0%\n",
            "For k neighbors: 10\n",
            "success class 97.0%\n",
            "For k neighbors: 12\n",
            "success class 97.0%\n",
            "For k neighbors: 15\n",
            "success class 93.0%\n",
            "For k neighbors: 20\n",
            "success class 90.0%\n",
            "For k neighbors: 30\n",
            "success class 87.0%\n"
          ]
        }
      ],
      "source": [
        "calculate_classification_knn(X_train_iris, X_test_iris, y_train_iris, y_test_iris)"
      ]
    },
    {
      "cell_type": "code",
      "execution_count": 57,
      "metadata": {},
      "outputs": [],
      "source": [
        "# PIMA INDIANS DIABETES Dataset\n",
        "pima_indians_diabetes = pd.read_csv(\"pima-indians-diabetes.data\", header=None, delimiter=\",\")\n",
        "pima_indians_diabetes_array = np.array(pima_indians_diabetes)"
      ]
    },
    {
      "cell_type": "code",
      "execution_count": 58,
      "metadata": {},
      "outputs": [],
      "source": [
        "X_train_pima, X_test_pima, y_train_pima, y_test_pima = train_test_split(pima_indians_diabetes_array[:,0:7], pima_indians_diabetes[8], test_size=0.2, random_state=0)"
      ]
    },
    {
      "cell_type": "markdown",
      "metadata": {},
      "source": [
        "#### PIMA Results\n",
        "We split our data in 80% train and 20% test data\n",
        "\n",
        "* We also tried different percentages of data split (70% train - 30% test / 60% train - 40% test), where we noticed that in lower train dataset size the k_nn doesn't achieve high accuracy with the test set, whereas in higher dataset size (ex.80%) the k_nn classifies the train dataset more accurelty\n",
        "* For 60%-40% we noticed that the optimal k is among 8-10 or 15 (75%), where other ks reduce the accuracy of the classification\n",
        "* For 70%-30% we noticed that the optimal k is 15 (75%)  \n",
        "* For 80%-20% we noticed that the optimal k is 20 or higher (78% -> 79%)  "
      ]
    },
    {
      "cell_type": "code",
      "execution_count": 59,
      "metadata": {},
      "outputs": [
        {
          "name": "stdout",
          "output_type": "stream",
          "text": [
            "For k neighbors: 3\n",
            "success class 73.0%\n",
            "For k neighbors: 5\n",
            "success class 74.0%\n",
            "For k neighbors: 8\n",
            "success class 74.0%\n",
            "For k neighbors: 10\n",
            "success class 74.0%\n",
            "For k neighbors: 12\n",
            "success class 75.0%\n",
            "For k neighbors: 15\n",
            "success class 78.0%\n",
            "For k neighbors: 20\n",
            "success class 78.0%\n",
            "For k neighbors: 30\n",
            "success class 79.0%\n"
          ]
        }
      ],
      "source": [
        "calculate_classification_knn(X_train_pima, X_test_pima, y_train_pima, y_test_pima)"
      ]
    },
    {
      "cell_type": "markdown",
      "metadata": {},
      "source": [
        "### Task 2"
      ]
    },
    {
      "cell_type": "markdown",
      "metadata": {},
      "source": [
        "##### a)Pdfs are gaussian. The covariance matrices are diagonal, with all diagonal elements equal."
      ]
    },
    {
      "cell_type": "code",
      "execution_count": 101,
      "metadata": {},
      "outputs": [],
      "source": [
        "import math"
      ]
    },
    {
      "cell_type": "code",
      "execution_count": 76,
      "metadata": {},
      "outputs": [],
      "source": [
        "# BIC -> -2*log*L(θ) + k*log(n)\n",
        "def BIC(likelihood, k, n):\n",
        "  bic_result = -2*likelihood + k*np.log(n)\n",
        "  return bic_result"
      ]
    },
    {
      "cell_type": "code",
      "execution_count": 77,
      "metadata": {},
      "outputs": [],
      "source": [
        "# AIC -> -2*log*L(θ) + 2*k\n",
        "def AIC(likelihood, k):\n",
        "  aic_result = -2*likelihood + 2*k\n",
        "  return aic_result"
      ]
    },
    {
      "cell_type": "code",
      "execution_count": 119,
      "metadata": {},
      "outputs": [],
      "source": [
        "zero_class = pima_indians_diabetes.loc[pima_indians_diabetes[8] == 0]\n",
        "one_class = pima_indians_diabetes.loc[pima_indians_diabetes[8] == 1]\n",
        "zero_class_array = np.array(zero_class[[0,1,2,3,4,5,6,7]])\n",
        "one_class_array = np.array(one_class[[0,1,2,3,4,5,6,7]])\n",
        "\n",
        "y_zero = np.empty(shape=(zero_class_array.shape[0],1))\n",
        "y_zero.fill(0)\n",
        "\n",
        "y_one= np.empty(shape=(one_class_array.shape[0],1))\n",
        "y_one.fill(1)"
      ]
    },
    {
      "cell_type": "code",
      "execution_count": 127,
      "metadata": {},
      "outputs": [],
      "source": [
        "def calculate_mean_variance_diagonal(dataset, class_index):\n",
        "  dataset_classes = dataset.groupby([class_index])\n",
        "  df_mean = dataset_classes.mean()\n",
        "  df_mean = df_mean.reset_index()\n",
        "\n",
        "  # calculate classes population\n",
        "  df = dataset.groupby([class_index], sort=False).size().reset_index(name='Count')\n",
        "  count_class = dict(zip(df[class_index],df['Count'] ))\n",
        "\n",
        "  # get classes name \n",
        "  mean = dict(zip(df_mean[class_index],np.array(df_mean[df_mean.columns.drop([class_index])])))\n",
        "  variance = dict(enumerate(dataset[class_index].unique()))\n",
        "  variance = { variance[k]:k for k in variance}\n",
        "\n",
        "  for index,item in dataset.iterrows():\n",
        "    variance[item[class_index]] += np.power(np.array(item.loc[0:class_index-1]) - mean[item[class_index]], 2)\n",
        "    # variance[item[class_index]] += np.matmul(np.array(item.loc[0:class_index-1]) - mean[item[class_index]], np.transpose(np.array(item.loc[0:class_index-1]) - mean[item[class_index]]))\n",
        "    # variance[item[class_index]] += np.matmul(np.array(item.loc[0:class_index-1]) - mean[item[class_index]], np.array(item.loc[0:class_index-1]) - mean[item[class_index]])\n",
        "  \n",
        "  # divide each class variance with the N\n",
        "  variance = {key: variance[key] / count_class.get(key, 0) for key in variance.keys()}\n",
        "  \n",
        "  return variance, mean\n"
      ]
    },
    {
      "cell_type": "code",
      "execution_count": 129,
      "metadata": {},
      "outputs": [],
      "source": [
        "variance_pima, mean_pima = calculate_mean_variance_diagonal(pima_indians_diabetes, 8)\n",
        "# print(variance_pima)\n",
        "# print(mean_pima)\n",
        "\n",
        "covariance_matrices_diagonal = {}\n",
        "for key in variance_pima:\n",
        "  covariance_matrices_diagonal[key] = variance_pima[key].mean()*np.identity(8)\n",
        "\n",
        "# print(covariance_matrices_diagonal)"
      ]
    },
    {
      "cell_type": "code",
      "execution_count": 65,
      "metadata": {},
      "outputs": [],
      "source": [
        "def calculate_probability(covar, N, sample, mean_class):\n",
        "  a_var = pow(2*math.pi,N*0.5)\n",
        "  b_var = pow(np.linalg.det(covar),0.5)\n",
        "  c_var = 1/(a_var*b_var)\n",
        "  d_var = np.transpose(sample-mean_class)\n",
        "  e_var = np.matmul(d_var, np.linalg.inv(covar))\n",
        "  f_var = np.matmul(e_var, (sample-mean_class))\n",
        "  g_var = -0.5*f_var\n",
        "  h_var = math.exp(g_var)\n",
        "  prob = c_var * h_var\n",
        "  return prob"
      ]
    },
    {
      "cell_type": "code",
      "execution_count": 66,
      "metadata": {},
      "outputs": [],
      "source": [
        "probability_zero = np.empty(shape=(zero_class_array.shape[0],1))\n",
        "for index, i in enumerate(zero_class_array):\n",
        "  probability_zero[index] = calculate_probability(covariance_matrices_diagonal[0],zero_class_array.shape[0], i, mean_pima[0])"
      ]
    },
    {
      "cell_type": "code",
      "execution_count": 67,
      "metadata": {},
      "outputs": [],
      "source": [
        "probability_one = np.empty(shape=(one_class_array.shape[0],1))\n",
        "for index, i in enumerate(one_class_array):\n",
        "  probability_one[index] = calculate_probability(covariance_matrices_diagonal[1],one_class_array.shape[0], i, mean_pima[1])"
      ]
    },
    {
      "cell_type": "code",
      "execution_count": 74,
      "metadata": {},
      "outputs": [],
      "source": [
        "L_zero=np.log(probability_zero)\n",
        "L_one=np.log(probability_one)\n",
        "# print(L_zero)\n",
        "sum_L_zero = L_zero.sum()\n",
        "sum_L_one = L_one.sum()"
      ]
    },
    {
      "cell_type": "code",
      "execution_count": 311,
      "metadata": {},
      "outputs": [
        {
          "name": "stdout",
          "output_type": "stream",
          "text": [
            "492497.7248638359\n",
            "492459.79339095013\n"
          ]
        }
      ],
      "source": [
        "# 9 parameters = 8 variance + 1 mean\n",
        "bic_zero = BIC(sum_L_zero,9,zero_class_array.shape[0])\n",
        "aic_zero = AIC(sum_L_zero,9)\n",
        "print(bic_zero)\n",
        "print(aic_zero)"
      ]
    },
    {
      "cell_type": "code",
      "execution_count": 312,
      "metadata": {},
      "outputs": [
        {
          "name": "stdout",
          "output_type": "stream",
          "text": [
            "151091.33469854094\n",
            "151059.01581571635\n"
          ]
        }
      ],
      "source": [
        "# 9 parameters = 8 variance + 1 mean\n",
        "bic_one = BIC(sum_L_one,9,one_class_array.shape[0])\n",
        "aic_one = AIC(sum_L_one,9)\n",
        "print(bic_one)\n",
        "print(aic_one)"
      ]
    },
    {
      "cell_type": "markdown",
      "metadata": {},
      "source": [
        "##### b)Pdfs are gaussian, with non-diagonal covariance matrices"
      ]
    },
    {
      "cell_type": "code",
      "execution_count": 108,
      "metadata": {},
      "outputs": [],
      "source": [
        "def calculate_mean_covariance(matrix):\n",
        "  mean = matrix.mean(axis=0)\n",
        "\n",
        "  matrix_sub_mean = []\n",
        "  for item in matrix:\n",
        "    #substract mean from each sample of the dataset\n",
        "    matrix_sub_mean.append(item-mean)\n",
        "  \n",
        "  covariance = np.matmul(np.transpose(matrix_sub_mean), matrix_sub_mean)\n",
        "  \n",
        "  # divide each class variance with the N\n",
        "  covariance = covariance/matrix.shape[0]\n",
        "  \n",
        "  return covariance, mean\n"
      ]
    },
    {
      "cell_type": "code",
      "execution_count": 113,
      "metadata": {},
      "outputs": [],
      "source": [
        "covariance_pima_one_nondiagonal, mean_pima_one_nondiagonal = calculate_mean_covariance(one_class_array)\n",
        "covariance_pima_zero_nondiagonal, mean_pima_zero_nondiagonal = calculate_mean_covariance(zero_class_array)"
      ]
    },
    {
      "cell_type": "code",
      "execution_count": 110,
      "metadata": {},
      "outputs": [
        {
          "data": {
            "text/plain": [
              "array([[ 1.39446425e+01, -6.49899755e+00,  1.01704723e+01,\n",
              "        -5.21675206e+00, -4.06116061e+01, -4.30622633e+00,\n",
              "        -9.60335821e-02,  1.81918579e+01],\n",
              "       [-6.49899755e+00,  1.01633297e+03,  4.69817192e+01,\n",
              "         2.11629539e+01,  1.15345458e+03,  1.16521079e+01,\n",
              "         3.13677239e-01,  3.44006182e+01],\n",
              "       [ 1.01704723e+01,  4.69817192e+01,  4.60174468e+02,\n",
              "         8.52675986e+01,  2.65379789e+02,  2.08309674e+01,\n",
              "         2.75236940e-01,  6.16908833e+01],\n",
              "       [-5.21675206e+00,  2.11629539e+01,  8.52675986e+01,\n",
              "         3.11405881e+02,  1.11529561e+03,  3.99210013e+01,\n",
              "         1.79638806e+00, -1.77759523e+01],\n",
              "       [-4.06116061e+01,  1.15345458e+03,  2.65379789e+02,\n",
              "         1.11529561e+03,  1.91629021e+04,  5.53069837e+01,\n",
              "         5.22539925e+00,  3.62871464e+01],\n",
              "       [-4.30622633e+00,  1.16521079e+01,  2.08309674e+01,\n",
              "         3.99210013e+01,  5.53069837e+01,  5.25538622e+01,\n",
              "         3.68475000e-01, -1.49215137e+01],\n",
              "       [-9.60335821e-02,  3.13677239e-01,  2.75236940e-01,\n",
              "         1.79638806e+00,  5.22539925e+00,  3.68475000e-01,\n",
              "         1.38130519e-01, -3.58541045e-01],\n",
              "       [ 1.81918579e+01,  3.44006182e+01,  6.16908833e+01,\n",
              "        -1.77759523e+01,  3.62871464e+01, -1.49215137e+01,\n",
              "        -3.58541045e-01,  1.19853698e+02]])"
            ]
          },
          "execution_count": 110,
          "metadata": {},
          "output_type": "execute_result"
        }
      ],
      "source": [
        "covariance_pima_one_nondiagonal"
      ]
    },
    {
      "cell_type": "code",
      "execution_count": 111,
      "metadata": {},
      "outputs": [
        {
          "data": {
            "text/plain": [
              "(8, 8)"
            ]
          },
          "execution_count": 111,
          "metadata": {},
          "output_type": "execute_result"
        }
      ],
      "source": [
        "covariance_pima_zero_nondiagonal.shape"
      ]
    },
    {
      "cell_type": "code",
      "execution_count": 112,
      "metadata": {},
      "outputs": [],
      "source": [
        "probability_zero_nondiagonal = np.empty(shape=(zero_class_array.shape[0],1))\n",
        "for index, i in enumerate(zero_class_array):\n",
        "  probability_zero_nondiagonal[index] = calculate_probability(covariance_pima_zero_nondiagonal, zero_class_array.shape[0], i, mean_pima_zero_nondiagonal)"
      ]
    },
    {
      "cell_type": "code",
      "execution_count": 114,
      "metadata": {},
      "outputs": [],
      "source": [
        "probability_one_nondiagonal = np.empty(shape=(one_class_array.shape[0],1))\n",
        "for index, i in enumerate(one_class_array):\n",
        "  probability_one_nondiagonal[index] = calculate_probability(covariance_pima_one_nondiagonal, one_class_array.shape[0], i, mean_pima_one_nondiagonal)"
      ]
    },
    {
      "cell_type": "code",
      "execution_count": 115,
      "metadata": {},
      "outputs": [],
      "source": [
        "L_zero_nondiagonal=np.log(probability_zero_nondiagonal)\n",
        "L_one_nondiagonal=np.log(probability_one_nondiagonal)\n",
        "# print(L_zero)\n",
        "sum_L_zero_nondiagonal = L_zero_nondiagonal.sum()\n",
        "sum_L_one_nondiagonal = L_one_nondiagonal.sum()"
      ]
    },
    {
      "cell_type": "code",
      "execution_count": 313,
      "metadata": {},
      "outputs": [
        {
          "name": "stdout",
          "output_type": "stream",
          "text": [
            "480880.0244082884\n",
            "480694.5816519578\n"
          ]
        }
      ],
      "source": [
        "# 44 parameters = symmetric covariance\n",
        "bic_zero_nondiagonal = BIC(sum_L_zero_nondiagonal,44,zero_class_array.shape[0])\n",
        "aic_zero_nondiagonal = AIC(sum_L_zero_nondiagonal,44)\n",
        "print(bic_zero_nondiagonal)\n",
        "print(aic_zero_nondiagonal)"
      ]
    },
    {
      "cell_type": "code",
      "execution_count": 314,
      "metadata": {},
      "outputs": [
        {
          "name": "stdout",
          "output_type": "stream",
          "text": [
            "144333.14130540084\n",
            "144175.13787825836\n"
          ]
        }
      ],
      "source": [
        "# 44 parameters = symmetric covariance\n",
        "bic_one_nondiagonal = BIC(sum_L_one_nondiagonal,44,one_class_array.shape[0])\n",
        "aic_one_nondiagonal = AIC(sum_L_one_nondiagonal,44)\n",
        "print(bic_one_nondiagonal)\n",
        "print(aic_one_nondiagonal)"
      ]
    },
    {
      "cell_type": "markdown",
      "metadata": {},
      "source": [
        "##### c)Components of the feature vectors are mutually statistically independent (the usual naïve Bayes approach)"
      ]
    },
    {
      "cell_type": "code",
      "execution_count": 187,
      "metadata": {},
      "outputs": [],
      "source": [
        "def calculate_probability_Naive_Bayes(mean, variance, matrix):\n",
        "  a_var = 1/(np.sqrt(variance)*2*math.pi)\n",
        "\n",
        "  matrix_sub_mean = []\n",
        "  for sample in matrix:\n",
        "    matrix_sub_mean.append(np.power(sample-mean, 2))\n",
        "  \n",
        "  matrix_sub_mean = np.array(matrix_sub_mean) \n",
        "  b_var = np.divide(matrix_sub_mean,variance)\n",
        "  c_var = -0.5*b_var\n",
        "  d_var = np.exp(c_var)\n",
        "  prob = np.matmul(d_var, a_var)\n",
        "\n",
        "  return prob"
      ]
    },
    {
      "cell_type": "code",
      "execution_count": 196,
      "metadata": {},
      "outputs": [],
      "source": [
        "naive_prob_zero = calculate_probability_Naive_Bayes(mean_pima[0], variance_pima[0], zero_class_array)\n",
        "naive_prob_one = calculate_probability_Naive_Bayes(mean_pima[1], variance_pima[1], one_class_array)\n",
        "# print(naive_prob_zero)\n",
        "total_prob_naive_zero = np.prod(naive_prob_zero)\n",
        "total_prob_naive_one = np.prod(naive_prob_one)"
      ]
    },
    {
      "cell_type": "code",
      "execution_count": 315,
      "metadata": {},
      "outputs": [
        {
          "name": "stdout",
          "output_type": "stream",
          "text": [
            "99.43372957475506\n",
            "32.0\n"
          ]
        }
      ],
      "source": [
        "# 16 parameters = 8 variance + 8 means\n",
        "bic_zero_naive = BIC(total_prob_naive_zero,16,zero_class_array.shape[0])\n",
        "aic_zero_naive = AIC(total_prob_naive_zero,16)\n",
        "print(bic_zero_naive)\n",
        "print(aic_zero_naive)"
      ]
    },
    {
      "cell_type": "code",
      "execution_count": 316,
      "metadata": {},
      "outputs": [
        {
          "name": "stdout",
          "output_type": "stream",
          "text": [
            "44.72789584408685\n",
            "16.0\n"
          ]
        }
      ],
      "source": [
        "# 16 parameters = 8 variance + 8 means\n",
        "bic_one_naive = BIC(total_prob_naive_one,8,one_class_array.shape[0])\n",
        "aic_one_naive = AIC(total_prob_naive_one,8)\n",
        "print(bic_one_naive)\n",
        "print(aic_one_naive)"
      ]
    },
    {
      "cell_type": "markdown",
      "metadata": {},
      "source": [
        "##### d)Components of the feature vectors are mutually statistically independent (the usual naïve Bayes approach). Marginal pdfs are computed using 1-d Parzen windows with gaussian kernels."
      ]
    },
    {
      "cell_type": "code",
      "execution_count": 265,
      "metadata": {},
      "outputs": [],
      "source": [
        "def check_bin(value, width_of_bins):\n",
        "  for index,width in enumerate(width_of_bins):\n",
        "    if len(width_of_bins)-1 == index:\n",
        "      return index \n",
        "    if value >= width and value < width_of_bins[index + 1]:\n",
        "      return index\n",
        "  "
      ]
    },
    {
      "cell_type": "code",
      "execution_count": 284,
      "metadata": {},
      "outputs": [],
      "source": [
        "def calculate_windows_width(matrix):\n",
        "  # calculate the width of each bin\n",
        "  sum_of_columns = matrix.sum(axis=0)\n",
        "  width_of_bins = np.sqrt(np.divide(sum_of_columns, matrix.shape[0]))\n",
        "\n",
        "  # get the minimun and max values of each feature \n",
        "  max_value_of_each_col = np.amax(matrix, axis=0)\n",
        "  min_value_of_each_col = np.amin(matrix, axis=0)\n",
        "\n",
        "  # calculate the number of bins of each feature\n",
        "  number_of_bins_of_each_column = np.round(np.divide(np.add(np.subtract(max_value_of_each_col,min_value_of_each_col),0.5), width_of_bins))\n",
        "\n",
        "  # print(number_of_bins_of_each_column)\n",
        "\n",
        "  # calculate the intervals of each bin\n",
        "  width_of_bins_of_each_feature = []\n",
        "  popolutation_of_each_bin = {}\n",
        "  for index,item in enumerate(number_of_bins_of_each_column):\n",
        "    width = min_value_of_each_col[index]\n",
        "    temp_arr = []\n",
        "    temp_pop = {}\n",
        "    n = 0\n",
        "    for i in range(int(item)):\n",
        "      temp_pop[i] = 0\n",
        "      temp_arr.append(width)\n",
        "      width += width_of_bins[index]\n",
        "      n = i\n",
        "    temp_pop[i+1] = 0\n",
        "    popolutation_of_each_bin[index] = temp_pop\n",
        "    temp_arr.append(width)\n",
        "    width_of_bins_of_each_feature.append(temp_arr)    \n",
        "  \n",
        "\n",
        "  #calculate the population of each bin based on the intervals\n",
        "  for item in matrix:\n",
        "    for index,j in enumerate(item):\n",
        "      bin_i = check_bin(j, width_of_bins_of_each_feature[index])\n",
        "      popolutation_of_each_bin[index][bin_i] = popolutation_of_each_bin[index][bin_i] + 1\n",
        "\n",
        "  return popolutation_of_each_bin, width_of_bins\n",
        "\n",
        "\n"
      ]
    },
    {
      "cell_type": "code",
      "execution_count": 285,
      "metadata": {},
      "outputs": [],
      "source": [
        "population_of_zero_bins, width_of_zero_bins = calculate_windows_width(zero_class_array)\n",
        "population_of_one_bins, width_of_one_bins = calculate_windows_width(one_class_array)"
      ]
    },
    {
      "cell_type": "code",
      "execution_count": 295,
      "metadata": {},
      "outputs": [],
      "source": [
        "def probability_parzen(bins_population, matrix, width_of_bins):\n",
        "  N = matrix.shape[0]\n",
        "  \n",
        "  prob = {}\n",
        "  for key1 in bins_population:\n",
        "    temp_prob = {}\n",
        "    for key2 in bins_population[key1]:\n",
        "      temp_prob[key2] = bins_population[key1][key2] / (N*width_of_bins[key1])\n",
        "    prob[key1] =  temp_prob\n",
        "  \n",
        "  return prob"
      ]
    },
    {
      "cell_type": "code",
      "execution_count": 297,
      "metadata": {},
      "outputs": [],
      "source": [
        "probability_parzen_zero = probability_parzen(population_of_zero_bins, zero_class_array, width_of_zero_bins)\n",
        "probability_parzen_one = probability_parzen(population_of_one_bins, one_class_array, width_of_one_bins)"
      ]
    },
    {
      "cell_type": "code",
      "execution_count": 321,
      "metadata": {},
      "outputs": [],
      "source": [
        "def multiplication_of_dict(mydict):\n",
        "  count = 0 # count the number of kn's\n",
        "  total_mult = 1\n",
        "  for key1 in mydict:\n",
        "    for key2 in mydict[key1]:\n",
        "      count +=1\n",
        "      if mydict[key1][key2] != 0.0:\n",
        "        total_mult = total_mult*mydict[key1][key2]\n",
        "  return total_mult"
      ]
    },
    {
      "cell_type": "code",
      "execution_count": 322,
      "metadata": {},
      "outputs": [],
      "source": [
        "total_probability_parzen_zero = multiplication_of_dict(probability_parzen_zero)\n",
        "total_probability_parzen_one = multiplication_of_dict(probability_parzen_one)"
      ]
    },
    {
      "cell_type": "code",
      "execution_count": 308,
      "metadata": {},
      "outputs": [
        {
          "name": "stdout",
          "output_type": "stream",
          "text": [
            "1.5009601595e-314\n",
            "9.520433121035572e-280\n"
          ]
        }
      ],
      "source": [
        "print(total_probability_parzen_zero)\n",
        "print(total_probability_parzen_one)"
      ]
    },
    {
      "cell_type": "code",
      "execution_count": 326,
      "metadata": {},
      "outputs": [
        {
          "name": "stdout",
          "output_type": "stream",
          "text": [
            "1039.9235783750194\n",
            "372.0\n"
          ]
        }
      ],
      "source": [
        "# 186 parameters = 178 kn's + 8 h\n",
        "bic_one_parzen = BIC(total_probability_parzen_one,186,one_class_array.shape[0])\n",
        "aic_one_parzen = AIC(total_probability_parzen_one,186)\n",
        "print(bic_one_parzen)\n",
        "print(aic_one_parzen)"
      ]
    },
    {
      "cell_type": "code",
      "execution_count": 327,
      "metadata": {},
      "outputs": [
        {
          "name": "stdout",
          "output_type": "stream",
          "text": [
            "1143.4878901096831\n",
            "368.0\n"
          ]
        }
      ],
      "source": [
        "# 184 parameters = 176 kn's + 8 h\n",
        "bic_zero_parzen = BIC(total_probability_parzen_zero,184,zero_class_array.shape[0])\n",
        "aic_zero_parzen = AIC(total_probability_parzen_zero,184)\n",
        "print(bic_zero_parzen)\n",
        "print(aic_zero_parzen)"
      ]
    }
  ],
  "metadata": {
    "colab": {
      "collapsed_sections": [
        "wH2OfN4-rRx_",
        "4ODVSxYIrRyC",
        "j51horGyrRyE",
        "_Cl7Cn36rRyG"
      ],
      "name": "midTermProject.ipynb",
      "provenance": []
    },
    "interpreter": {
      "hash": "916dbcbb3f70747c44a77c7bcd40155683ae19c65e1c03b4aa3499c5328201f1"
    },
    "kernelspec": {
      "display_name": "Python 3 (ipykernel)",
      "language": "python",
      "name": "python3"
    },
    "language_info": {
      "codemirror_mode": {
        "name": "ipython",
        "version": 3
      },
      "file_extension": ".py",
      "mimetype": "text/x-python",
      "name": "python",
      "nbconvert_exporter": "python",
      "pygments_lexer": "ipython3",
      "version": "3.8.10"
    }
  },
  "nbformat": 4,
  "nbformat_minor": 0
}
